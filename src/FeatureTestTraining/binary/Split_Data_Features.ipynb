{
 "cells": [
  {
   "cell_type": "code",
   "execution_count": 1,
   "id": "126a7f0c-cae4-4574-adbb-30ffe1166abe",
   "metadata": {},
   "outputs": [],
   "source": [
    "import pandas as pd \n",
    "import numpy as np \n",
    "import matplotlib.pyplot as plt"
   ]
  },
  {
   "cell_type": "code",
   "execution_count": 2,
   "id": "0db8b97f-c47d-4645-972c-ecf2906d426b",
   "metadata": {},
   "outputs": [],
   "source": [
    "data_path = \"data_merged_bp_time_ens.csv\"\n",
    "df = pd.read_csv(data_path , index_col=False)\n",
    "df.rename(columns={'Unnamed: 0': 'ID'}, inplace=True)\n"
   ]
  },
  {
   "cell_type": "code",
   "execution_count": 3,
   "id": "7ef509cf-cafd-4738-aaef-9ef11835f36d",
   "metadata": {},
   "outputs": [],
   "source": [
    "feats = ['HR_mean','HR_std','meanNN','SDNN','medianNN','meanSD','SDSD','RMSSD','pNN20','pNN50','TINN','LF','HF','ULF','VLF','LFHF',\n",
    "         'total_power','lfp','hfp','SD1','SD2','pA','pQ','ApEn','shanEn','D2','subject','label']"
   ]
  },
  {
   "cell_type": "code",
   "execution_count": 4,
   "id": "68640c5f-7062-4bac-a2d0-a6ba58e612e9",
   "metadata": {},
   "outputs": [
    {
     "data": {
      "text/plain": [
       "Index(['ID', 'HR_mean', 'HR_std', 'meanNN', 'SDNN', 'medianNN', 'meanSD',\n",
       "       'SDSD', 'RMSSD', 'pNN20', 'pNN50', 'TINN', 'LF', 'HF', 'ULF', 'VLF',\n",
       "       'LFHF', 'total_power', 'lfp', 'hfp', 'SD1', 'SD2', 'pA', 'pQ', 'ApEn',\n",
       "       'shanEn', 'D2', 'subject', 'label'],\n",
       "      dtype='object')"
      ]
     },
     "execution_count": 4,
     "metadata": {},
     "output_type": "execute_result"
    }
   ],
   "source": [
    "df.columns"
   ]
  },
  {
   "cell_type": "code",
   "execution_count": 5,
   "id": "7b23ea9e-3295-4777-b298-b150e69b14c2",
   "metadata": {},
   "outputs": [],
   "source": [
    "frequency_domain_features = [\n",
    "    'subject','LF', 'HF', 'ULF', 'VLF',\n",
    "    'LFHF', 'total_power', 'lfp', 'hfp', 'label'\n",
    "]\n",
    "\n",
    "spatial_domain_features = [\n",
    "    'subject','HR_mean', 'HR_std', 'meanNN', 'SDNN', 'medianNN', 'meanSD',\n",
    "    'SDSD', 'RMSSD', 'pNN20', 'pNN50', 'TINN', 'label'\n",
    "]\n",
    "\n",
    "non_linear_hrv_measures = [\n",
    "    'subject','SD1', 'SD2', 'pA', 'pQ', 'ApEn',\n",
    "    'shanEn', 'D2', 'label'\n",
    "]\n"
   ]
  },
  {
   "cell_type": "code",
   "execution_count": 6,
   "id": "9b7805e9-89aa-477e-9f31-f68728fdd8a2",
   "metadata": {},
   "outputs": [],
   "source": [
    "frequency_domain_df = df[frequency_domain_features]\n",
    "spatial_domain_df = df[spatial_domain_features]\n",
    "non_linear_hrv_df = df[non_linear_hrv_measures]"
   ]
  },
  {
   "cell_type": "code",
   "execution_count": 7,
   "id": "98ea1e05-d141-43b6-84a3-0b8b9d84d527",
   "metadata": {},
   "outputs": [],
   "source": [
    "spatial_domain_df = spatial_domain_df.sample(frac=1, random_state=42).reset_index(drop=True)\n",
    "non_linear_hrv_df = non_linear_hrv_df.sample(frac=1, random_state=42).reset_index(drop=True)\n",
    "frequency_domain_df = frequency_domain_df.sample(frac=1, random_state=42).reset_index(drop=True)"
   ]
  },
  {
   "cell_type": "code",
   "execution_count": 8,
   "id": "9f75e3f3-7500-418e-ad1d-b041c7e5348a",
   "metadata": {},
   "outputs": [
    {
     "data": {
      "text/plain": [
       "Index(['subject', 'LF', 'HF', 'ULF', 'VLF', 'LFHF', 'total_power', 'lfp',\n",
       "       'hfp', 'label'],\n",
       "      dtype='object')"
      ]
     },
     "execution_count": 8,
     "metadata": {},
     "output_type": "execute_result"
    }
   ],
   "source": [
    "frequency_domain_df.columns"
   ]
  },
  {
   "cell_type": "code",
   "execution_count": 11,
   "id": "49ed7e02-6af8-4d78-bc47-2ad089e3f6ae",
   "metadata": {},
   "outputs": [],
   "source": [
    "frequency_domain_df.to_csv('Features/frequency_domain_features.csv', index=False)\n",
    "spatial_domain_df.to_csv('Features/spatial_domain_features.csv', index=False)\n",
    "non_linear_hrv_df.to_csv('Features/non_linear_hrv_measures.csv', index=False)"
   ]
  },
  {
   "cell_type": "code",
   "execution_count": 12,
   "id": "b6e7b0ad-5821-4bfd-96ce-7b8b15c507e1",
   "metadata": {},
   "outputs": [
    {
     "data": {
      "text/plain": [
       "Index(['subject', 'HR_mean', 'HR_std', 'meanNN', 'SDNN', 'medianNN', 'meanSD',\n",
       "       'SDSD', 'RMSSD', 'pNN20', 'pNN50', 'TINN', 'label'],\n",
       "      dtype='object')"
      ]
     },
     "execution_count": 12,
     "metadata": {},
     "output_type": "execute_result"
    }
   ],
   "source": [
    "data_path = \"Features/spatial_domain_features.csv\"\n",
    "df = pd.read_csv(data_path ,index_col=False)\n",
    "df.columns"
   ]
  },
  {
   "cell_type": "code",
   "execution_count": null,
   "id": "10d255ad-2d06-47cb-84bb-ab185e1c878d",
   "metadata": {},
   "outputs": [],
   "source": []
  },
  {
   "cell_type": "code",
   "execution_count": null,
   "id": "3fc8a8aa-1417-475b-9c61-a24956ce6d66",
   "metadata": {},
   "outputs": [],
   "source": []
  }
 ],
 "metadata": {
  "kernelspec": {
   "display_name": "Python 3 (ipykernel)",
   "language": "python",
   "name": "python3"
  },
  "language_info": {
   "codemirror_mode": {
    "name": "ipython",
    "version": 3
   },
   "file_extension": ".py",
   "mimetype": "text/x-python",
   "name": "python",
   "nbconvert_exporter": "python",
   "pygments_lexer": "ipython3",
   "version": "3.11.5"
  }
 },
 "nbformat": 4,
 "nbformat_minor": 5
}
