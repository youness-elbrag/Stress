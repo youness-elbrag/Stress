{
 "cells": [
  {
   "cell_type": "code",
   "execution_count": 9,
   "id": "57a22639-27db-41b6-a5fd-c5064b32e352",
   "metadata": {},
   "outputs": [],
   "source": [
    "import matplotlib.pyplot as plt \n",
    "import plotly.express as px\n",
    "import plotly.graph_objects as go\n",
    "from plotly.subplots import make_subplots\n",
    "from tqdm.notebook import tqdm\n",
    "import pandas as pd \n",
    "\n",
    "import numpy as np\n",
    "from sklearn.model_selection import train_test_split\n",
    "from sklearn.preprocessing import LabelEncoder\n",
    "from sklearn.preprocessing import MinMaxScaler\n",
    "import torch.nn as nn\n",
    "from imblearn.combine import SMOTETomek\n",
    "from sklearn.feature_selection import SelectKBest, chi2\n",
    "from torch.autograd import Variable\n",
    "import torch\n",
    "import torch.optim as optim\n",
    "from sklearn import metrics\n",
    "import torch.nn.functional as F\n",
    "import time\n",
    "from datetime import timedelta\n",
    "import warnings\n",
    "warnings.filterwarnings('ignore')\n",
    "from torch.utils.data import Dataset , DataLoader\n",
    "from sklearn.metrics import confusion_matrix\n",
    "import plotly.io as pio\n",
    "pio.renderers.default = 'jupyterlab'"
   ]
  },
  {
   "cell_type": "code",
   "execution_count": 3,
   "id": "2b75b404-3687-4839-8830-d499b65617f9",
   "metadata": {},
   "outputs": [
    {
     "data": {
      "text/html": [
       "<div>\n",
       "<style scoped>\n",
       "    .dataframe tbody tr th:only-of-type {\n",
       "        vertical-align: middle;\n",
       "    }\n",
       "\n",
       "    .dataframe tbody tr th {\n",
       "        vertical-align: top;\n",
       "    }\n",
       "\n",
       "    .dataframe thead th {\n",
       "        text-align: right;\n",
       "    }\n",
       "</style>\n",
       "<table border=\"1\" class=\"dataframe\">\n",
       "  <thead>\n",
       "    <tr style=\"text-align: right;\">\n",
       "      <th></th>\n",
       "      <th>Unnamed: 0</th>\n",
       "      <th>HR_mean</th>\n",
       "      <th>HR_std</th>\n",
       "      <th>meanNN</th>\n",
       "      <th>SDNN</th>\n",
       "      <th>medianNN</th>\n",
       "      <th>meanSD</th>\n",
       "      <th>SDSD</th>\n",
       "      <th>RMSSD</th>\n",
       "      <th>pNN20</th>\n",
       "      <th>...</th>\n",
       "      <th>hfp</th>\n",
       "      <th>SD1</th>\n",
       "      <th>SD2</th>\n",
       "      <th>pA</th>\n",
       "      <th>pQ</th>\n",
       "      <th>ApEn</th>\n",
       "      <th>shanEn</th>\n",
       "      <th>D2</th>\n",
       "      <th>subject</th>\n",
       "      <th>label</th>\n",
       "    </tr>\n",
       "  </thead>\n",
       "  <tbody>\n",
       "    <tr>\n",
       "      <th>0</th>\n",
       "      <td>0</td>\n",
       "      <td>83.089179</td>\n",
       "      <td>20.181149</td>\n",
       "      <td>758.572049</td>\n",
       "      <td>153.235127</td>\n",
       "      <td>812.5</td>\n",
       "      <td>124.344406</td>\n",
       "      <td>126.424279</td>\n",
       "      <td>177.326336</td>\n",
       "      <td>0.014844</td>\n",
       "      <td>...</td>\n",
       "      <td>0.454831</td>\n",
       "      <td>125.827001</td>\n",
       "      <td>47497.302502</td>\n",
       "      <td>5.976443e+06</td>\n",
       "      <td>0.002649</td>\n",
       "      <td>0.161377</td>\n",
       "      <td>4.773326</td>\n",
       "      <td>1.318076</td>\n",
       "      <td>2</td>\n",
       "      <td>1</td>\n",
       "    </tr>\n",
       "  </tbody>\n",
       "</table>\n",
       "<p>1 rows × 29 columns</p>\n",
       "</div>"
      ],
      "text/plain": [
       "   Unnamed: 0    HR_mean     HR_std      meanNN        SDNN  medianNN  \\\n",
       "0           0  83.089179  20.181149  758.572049  153.235127     812.5   \n",
       "\n",
       "       meanSD        SDSD       RMSSD     pNN20  ...       hfp         SD1  \\\n",
       "0  124.344406  126.424279  177.326336  0.014844  ...  0.454831  125.827001   \n",
       "\n",
       "            SD2            pA        pQ      ApEn    shanEn        D2  \\\n",
       "0  47497.302502  5.976443e+06  0.002649  0.161377  4.773326  1.318076   \n",
       "\n",
       "   subject  label  \n",
       "0        2      1  \n",
       "\n",
       "[1 rows x 29 columns]"
      ]
     },
     "execution_count": 3,
     "metadata": {},
     "output_type": "execute_result"
    }
   ],
   "source": [
    "\n",
    "data_path = \"../FeatureTestTraining/binary/data_merged_bp_time_ens.csv\"\n",
    "df = pd.read_csv(data_path ,index_col=False)\n",
    "df.head(1)"
   ]
  },
  {
   "cell_type": "code",
   "execution_count": 4,
   "id": "c55854df-13fe-4ccf-9c37-debd88b0c101",
   "metadata": {},
   "outputs": [
    {
     "data": {
      "application/vnd.plotly.v1+json": {
       "config": {
        "plotlyServerURL": "https://plot.ly"
       },
       "data": [
        {
         "hole": 0.5,
         "hoverinfo": "label+value",
         "labels": [
          "Stress",
          "Non-Stress"
         ],
         "marker": {
          "colors": [
           "red",
           "royalblue",
           "green",
           "yellow",
           "pink",
           "grey"
          ]
         },
         "textfont": {
          "size": 15
         },
         "type": "pie",
         "values": [
          639,
          245
         ]
        }
       ],
       "layout": {
        "annotations": [
         {
          "font": {
           "size": 15
          },
          "showarrow": false,
          "text": "Stress Condition ",
          "x": 0.5,
          "y": 0.5
         }
        ],
        "autosize": true,
        "template": {
         "data": {
          "bar": [
           {
            "error_x": {
             "color": "#2a3f5f"
            },
            "error_y": {
             "color": "#2a3f5f"
            },
            "marker": {
             "line": {
              "color": "#E5ECF6",
              "width": 0.5
             },
             "pattern": {
              "fillmode": "overlay",
              "size": 10,
              "solidity": 0.2
             }
            },
            "type": "bar"
           }
          ],
          "barpolar": [
           {
            "marker": {
             "line": {
              "color": "#E5ECF6",
              "width": 0.5
             },
             "pattern": {
              "fillmode": "overlay",
              "size": 10,
              "solidity": 0.2
             }
            },
            "type": "barpolar"
           }
          ],
          "carpet": [
           {
            "aaxis": {
             "endlinecolor": "#2a3f5f",
             "gridcolor": "white",
             "linecolor": "white",
             "minorgridcolor": "white",
             "startlinecolor": "#2a3f5f"
            },
            "baxis": {
             "endlinecolor": "#2a3f5f",
             "gridcolor": "white",
             "linecolor": "white",
             "minorgridcolor": "white",
             "startlinecolor": "#2a3f5f"
            },
            "type": "carpet"
           }
          ],
          "choropleth": [
           {
            "colorbar": {
             "outlinewidth": 0,
             "ticks": ""
            },
            "type": "choropleth"
           }
          ],
          "contour": [
           {
            "colorbar": {
             "outlinewidth": 0,
             "ticks": ""
            },
            "colorscale": [
             [
              0,
              "#0d0887"
             ],
             [
              0.1111111111111111,
              "#46039f"
             ],
             [
              0.2222222222222222,
              "#7201a8"
             ],
             [
              0.3333333333333333,
              "#9c179e"
             ],
             [
              0.4444444444444444,
              "#bd3786"
             ],
             [
              0.5555555555555556,
              "#d8576b"
             ],
             [
              0.6666666666666666,
              "#ed7953"
             ],
             [
              0.7777777777777778,
              "#fb9f3a"
             ],
             [
              0.8888888888888888,
              "#fdca26"
             ],
             [
              1,
              "#f0f921"
             ]
            ],
            "type": "contour"
           }
          ],
          "contourcarpet": [
           {
            "colorbar": {
             "outlinewidth": 0,
             "ticks": ""
            },
            "type": "contourcarpet"
           }
          ],
          "heatmap": [
           {
            "colorbar": {
             "outlinewidth": 0,
             "ticks": ""
            },
            "colorscale": [
             [
              0,
              "#0d0887"
             ],
             [
              0.1111111111111111,
              "#46039f"
             ],
             [
              0.2222222222222222,
              "#7201a8"
             ],
             [
              0.3333333333333333,
              "#9c179e"
             ],
             [
              0.4444444444444444,
              "#bd3786"
             ],
             [
              0.5555555555555556,
              "#d8576b"
             ],
             [
              0.6666666666666666,
              "#ed7953"
             ],
             [
              0.7777777777777778,
              "#fb9f3a"
             ],
             [
              0.8888888888888888,
              "#fdca26"
             ],
             [
              1,
              "#f0f921"
             ]
            ],
            "type": "heatmap"
           }
          ],
          "heatmapgl": [
           {
            "colorbar": {
             "outlinewidth": 0,
             "ticks": ""
            },
            "colorscale": [
             [
              0,
              "#0d0887"
             ],
             [
              0.1111111111111111,
              "#46039f"
             ],
             [
              0.2222222222222222,
              "#7201a8"
             ],
             [
              0.3333333333333333,
              "#9c179e"
             ],
             [
              0.4444444444444444,
              "#bd3786"
             ],
             [
              0.5555555555555556,
              "#d8576b"
             ],
             [
              0.6666666666666666,
              "#ed7953"
             ],
             [
              0.7777777777777778,
              "#fb9f3a"
             ],
             [
              0.8888888888888888,
              "#fdca26"
             ],
             [
              1,
              "#f0f921"
             ]
            ],
            "type": "heatmapgl"
           }
          ],
          "histogram": [
           {
            "marker": {
             "pattern": {
              "fillmode": "overlay",
              "size": 10,
              "solidity": 0.2
             }
            },
            "type": "histogram"
           }
          ],
          "histogram2d": [
           {
            "colorbar": {
             "outlinewidth": 0,
             "ticks": ""
            },
            "colorscale": [
             [
              0,
              "#0d0887"
             ],
             [
              0.1111111111111111,
              "#46039f"
             ],
             [
              0.2222222222222222,
              "#7201a8"
             ],
             [
              0.3333333333333333,
              "#9c179e"
             ],
             [
              0.4444444444444444,
              "#bd3786"
             ],
             [
              0.5555555555555556,
              "#d8576b"
             ],
             [
              0.6666666666666666,
              "#ed7953"
             ],
             [
              0.7777777777777778,
              "#fb9f3a"
             ],
             [
              0.8888888888888888,
              "#fdca26"
             ],
             [
              1,
              "#f0f921"
             ]
            ],
            "type": "histogram2d"
           }
          ],
          "histogram2dcontour": [
           {
            "colorbar": {
             "outlinewidth": 0,
             "ticks": ""
            },
            "colorscale": [
             [
              0,
              "#0d0887"
             ],
             [
              0.1111111111111111,
              "#46039f"
             ],
             [
              0.2222222222222222,
              "#7201a8"
             ],
             [
              0.3333333333333333,
              "#9c179e"
             ],
             [
              0.4444444444444444,
              "#bd3786"
             ],
             [
              0.5555555555555556,
              "#d8576b"
             ],
             [
              0.6666666666666666,
              "#ed7953"
             ],
             [
              0.7777777777777778,
              "#fb9f3a"
             ],
             [
              0.8888888888888888,
              "#fdca26"
             ],
             [
              1,
              "#f0f921"
             ]
            ],
            "type": "histogram2dcontour"
           }
          ],
          "mesh3d": [
           {
            "colorbar": {
             "outlinewidth": 0,
             "ticks": ""
            },
            "type": "mesh3d"
           }
          ],
          "parcoords": [
           {
            "line": {
             "colorbar": {
              "outlinewidth": 0,
              "ticks": ""
             }
            },
            "type": "parcoords"
           }
          ],
          "pie": [
           {
            "automargin": true,
            "type": "pie"
           }
          ],
          "scatter": [
           {
            "fillpattern": {
             "fillmode": "overlay",
             "size": 10,
             "solidity": 0.2
            },
            "type": "scatter"
           }
          ],
          "scatter3d": [
           {
            "line": {
             "colorbar": {
              "outlinewidth": 0,
              "ticks": ""
             }
            },
            "marker": {
             "colorbar": {
              "outlinewidth": 0,
              "ticks": ""
             }
            },
            "type": "scatter3d"
           }
          ],
          "scattercarpet": [
           {
            "marker": {
             "colorbar": {
              "outlinewidth": 0,
              "ticks": ""
             }
            },
            "type": "scattercarpet"
           }
          ],
          "scattergeo": [
           {
            "marker": {
             "colorbar": {
              "outlinewidth": 0,
              "ticks": ""
             }
            },
            "type": "scattergeo"
           }
          ],
          "scattergl": [
           {
            "marker": {
             "colorbar": {
              "outlinewidth": 0,
              "ticks": ""
             }
            },
            "type": "scattergl"
           }
          ],
          "scattermapbox": [
           {
            "marker": {
             "colorbar": {
              "outlinewidth": 0,
              "ticks": ""
             }
            },
            "type": "scattermapbox"
           }
          ],
          "scatterpolar": [
           {
            "marker": {
             "colorbar": {
              "outlinewidth": 0,
              "ticks": ""
             }
            },
            "type": "scatterpolar"
           }
          ],
          "scatterpolargl": [
           {
            "marker": {
             "colorbar": {
              "outlinewidth": 0,
              "ticks": ""
             }
            },
            "type": "scatterpolargl"
           }
          ],
          "scatterternary": [
           {
            "marker": {
             "colorbar": {
              "outlinewidth": 0,
              "ticks": ""
             }
            },
            "type": "scatterternary"
           }
          ],
          "surface": [
           {
            "colorbar": {
             "outlinewidth": 0,
             "ticks": ""
            },
            "colorscale": [
             [
              0,
              "#0d0887"
             ],
             [
              0.1111111111111111,
              "#46039f"
             ],
             [
              0.2222222222222222,
              "#7201a8"
             ],
             [
              0.3333333333333333,
              "#9c179e"
             ],
             [
              0.4444444444444444,
              "#bd3786"
             ],
             [
              0.5555555555555556,
              "#d8576b"
             ],
             [
              0.6666666666666666,
              "#ed7953"
             ],
             [
              0.7777777777777778,
              "#fb9f3a"
             ],
             [
              0.8888888888888888,
              "#fdca26"
             ],
             [
              1,
              "#f0f921"
             ]
            ],
            "type": "surface"
           }
          ],
          "table": [
           {
            "cells": {
             "fill": {
              "color": "#EBF0F8"
             },
             "line": {
              "color": "white"
             }
            },
            "header": {
             "fill": {
              "color": "#C8D4E3"
             },
             "line": {
              "color": "white"
             }
            },
            "type": "table"
           }
          ]
         },
         "layout": {
          "annotationdefaults": {
           "arrowcolor": "#2a3f5f",
           "arrowhead": 0,
           "arrowwidth": 1
          },
          "autotypenumbers": "strict",
          "coloraxis": {
           "colorbar": {
            "outlinewidth": 0,
            "ticks": ""
           }
          },
          "colorscale": {
           "diverging": [
            [
             0,
             "#8e0152"
            ],
            [
             0.1,
             "#c51b7d"
            ],
            [
             0.2,
             "#de77ae"
            ],
            [
             0.3,
             "#f1b6da"
            ],
            [
             0.4,
             "#fde0ef"
            ],
            [
             0.5,
             "#f7f7f7"
            ],
            [
             0.6,
             "#e6f5d0"
            ],
            [
             0.7,
             "#b8e186"
            ],
            [
             0.8,
             "#7fbc41"
            ],
            [
             0.9,
             "#4d9221"
            ],
            [
             1,
             "#276419"
            ]
           ],
           "sequential": [
            [
             0,
             "#0d0887"
            ],
            [
             0.1111111111111111,
             "#46039f"
            ],
            [
             0.2222222222222222,
             "#7201a8"
            ],
            [
             0.3333333333333333,
             "#9c179e"
            ],
            [
             0.4444444444444444,
             "#bd3786"
            ],
            [
             0.5555555555555556,
             "#d8576b"
            ],
            [
             0.6666666666666666,
             "#ed7953"
            ],
            [
             0.7777777777777778,
             "#fb9f3a"
            ],
            [
             0.8888888888888888,
             "#fdca26"
            ],
            [
             1,
             "#f0f921"
            ]
           ],
           "sequentialminus": [
            [
             0,
             "#0d0887"
            ],
            [
             0.1111111111111111,
             "#46039f"
            ],
            [
             0.2222222222222222,
             "#7201a8"
            ],
            [
             0.3333333333333333,
             "#9c179e"
            ],
            [
             0.4444444444444444,
             "#bd3786"
            ],
            [
             0.5555555555555556,
             "#d8576b"
            ],
            [
             0.6666666666666666,
             "#ed7953"
            ],
            [
             0.7777777777777778,
             "#fb9f3a"
            ],
            [
             0.8888888888888888,
             "#fdca26"
            ],
            [
             1,
             "#f0f921"
            ]
           ]
          },
          "colorway": [
           "#636efa",
           "#EF553B",
           "#00cc96",
           "#ab63fa",
           "#FFA15A",
           "#19d3f3",
           "#FF6692",
           "#B6E880",
           "#FF97FF",
           "#FECB52"
          ],
          "font": {
           "color": "#2a3f5f"
          },
          "geo": {
           "bgcolor": "white",
           "lakecolor": "white",
           "landcolor": "#E5ECF6",
           "showlakes": true,
           "showland": true,
           "subunitcolor": "white"
          },
          "hoverlabel": {
           "align": "left"
          },
          "hovermode": "closest",
          "mapbox": {
           "style": "light"
          },
          "paper_bgcolor": "white",
          "plot_bgcolor": "#E5ECF6",
          "polar": {
           "angularaxis": {
            "gridcolor": "white",
            "linecolor": "white",
            "ticks": ""
           },
           "bgcolor": "#E5ECF6",
           "radialaxis": {
            "gridcolor": "white",
            "linecolor": "white",
            "ticks": ""
           }
          },
          "scene": {
           "xaxis": {
            "backgroundcolor": "#E5ECF6",
            "gridcolor": "white",
            "gridwidth": 2,
            "linecolor": "white",
            "showbackground": true,
            "ticks": "",
            "zerolinecolor": "white"
           },
           "yaxis": {
            "backgroundcolor": "#E5ECF6",
            "gridcolor": "white",
            "gridwidth": 2,
            "linecolor": "white",
            "showbackground": true,
            "ticks": "",
            "zerolinecolor": "white"
           },
           "zaxis": {
            "backgroundcolor": "#E5ECF6",
            "gridcolor": "white",
            "gridwidth": 2,
            "linecolor": "white",
            "showbackground": true,
            "ticks": "",
            "zerolinecolor": "white"
           }
          },
          "shapedefaults": {
           "line": {
            "color": "#2a3f5f"
           }
          },
          "ternary": {
           "aaxis": {
            "gridcolor": "white",
            "linecolor": "white",
            "ticks": ""
           },
           "baxis": {
            "gridcolor": "white",
            "linecolor": "white",
            "ticks": ""
           },
           "bgcolor": "#E5ECF6",
           "caxis": {
            "gridcolor": "white",
            "linecolor": "white",
            "ticks": ""
           }
          },
          "title": {
           "x": 0.05
          },
          "xaxis": {
           "automargin": true,
           "gridcolor": "white",
           "linecolor": "white",
           "ticks": "",
           "title": {
            "standoff": 15
           },
           "zerolinecolor": "white",
           "zerolinewidth": 2
          },
          "yaxis": {
           "automargin": true,
           "gridcolor": "white",
           "linecolor": "white",
           "ticks": "",
           "title": {
            "standoff": 15
           },
           "zerolinecolor": "white",
           "zerolinewidth": 2
          }
         }
        }
       }
      }
     },
     "metadata": {},
     "output_type": "display_data"
    }
   ],
   "source": [
    "labels = ['Stress','Non-Stress']\n",
    "values = df['label'].value_counts()\n",
    "colors = ['red', 'royalblue','green','yellow','pink','grey']\n",
    "fig = go.Figure(data=[go.Pie(labels=labels, values=values, hole=.5)])\n",
    "fig.update_traces(hoverinfo='label+value',textfont_size=15,marker=dict(colors=colors))\n",
    "fig.update_layout(annotations=[dict(text='Stress Condition ', \n",
    "                                    x=0.50, y=0.5, font_size=15, \n",
    "                                    showarrow=False)])\n",
    "fig.show()\n",
    "\n"
   ]
  },
  {
   "cell_type": "code",
   "execution_count": 4,
   "id": "1b99682d-26c1-4600-8ac9-b1898a20f93d",
   "metadata": {},
   "outputs": [],
   "source": [
    "\n",
    "\n",
    "X = df.drop('label', axis=1)\n",
    "y = df['label']\n",
    "ros = SMOTETomek(random_state=42)\n",
    "X_resampled, y_resampled = ros.fit_resample(X, y)"
   ]
  },
  {
   "cell_type": "code",
   "execution_count": 5,
   "id": "ef83a8a3-d05d-4f21-aeee-1d1120f51a91",
   "metadata": {},
   "outputs": [],
   "source": [
    "balanced_df = pd.DataFrame(data=X_resampled, columns=df.columns)\n",
    "balanced_df['label'] = y_resampled"
   ]
  },
  {
   "cell_type": "code",
   "execution_count": 6,
   "id": "49b739f6-6a28-4cd2-97a8-906396f6e743",
   "metadata": {},
   "outputs": [],
   "source": [
    "balanced_df = balanced_df.drop(columns=['Unnamed: 0'])"
   ]
  },
  {
   "cell_type": "code",
   "execution_count": 7,
   "id": "ec029a90-cbd1-4eaf-940a-978dbbff6d8d",
   "metadata": {},
   "outputs": [
    {
     "data": {
      "text/html": [
       "<div>\n",
       "<style scoped>\n",
       "    .dataframe tbody tr th:only-of-type {\n",
       "        vertical-align: middle;\n",
       "    }\n",
       "\n",
       "    .dataframe tbody tr th {\n",
       "        vertical-align: top;\n",
       "    }\n",
       "\n",
       "    .dataframe thead th {\n",
       "        text-align: right;\n",
       "    }\n",
       "</style>\n",
       "<table border=\"1\" class=\"dataframe\">\n",
       "  <thead>\n",
       "    <tr style=\"text-align: right;\">\n",
       "      <th></th>\n",
       "      <th>HR_mean</th>\n",
       "      <th>HR_std</th>\n",
       "      <th>meanNN</th>\n",
       "      <th>SDNN</th>\n",
       "      <th>medianNN</th>\n",
       "      <th>meanSD</th>\n",
       "      <th>SDSD</th>\n",
       "      <th>RMSSD</th>\n",
       "      <th>pNN20</th>\n",
       "      <th>pNN50</th>\n",
       "      <th>...</th>\n",
       "      <th>hfp</th>\n",
       "      <th>SD1</th>\n",
       "      <th>SD2</th>\n",
       "      <th>pA</th>\n",
       "      <th>pQ</th>\n",
       "      <th>ApEn</th>\n",
       "      <th>shanEn</th>\n",
       "      <th>D2</th>\n",
       "      <th>subject</th>\n",
       "      <th>label</th>\n",
       "    </tr>\n",
       "  </thead>\n",
       "  <tbody>\n",
       "    <tr>\n",
       "      <th>0</th>\n",
       "      <td>83.089179</td>\n",
       "      <td>20.181149</td>\n",
       "      <td>758.572049</td>\n",
       "      <td>153.235127</td>\n",
       "      <td>812.5</td>\n",
       "      <td>124.344406</td>\n",
       "      <td>126.424279</td>\n",
       "      <td>177.326336</td>\n",
       "      <td>0.014844</td>\n",
       "      <td>0.010937</td>\n",
       "      <td>...</td>\n",
       "      <td>0.454831</td>\n",
       "      <td>125.827001</td>\n",
       "      <td>47497.302502</td>\n",
       "      <td>5.976443e+06</td>\n",
       "      <td>0.002649</td>\n",
       "      <td>0.161377</td>\n",
       "      <td>4.773326</td>\n",
       "      <td>1.318076</td>\n",
       "      <td>2</td>\n",
       "      <td>1</td>\n",
       "    </tr>\n",
       "  </tbody>\n",
       "</table>\n",
       "<p>1 rows × 28 columns</p>\n",
       "</div>"
      ],
      "text/plain": [
       "     HR_mean     HR_std      meanNN        SDNN  medianNN      meanSD  \\\n",
       "0  83.089179  20.181149  758.572049  153.235127     812.5  124.344406   \n",
       "\n",
       "         SDSD       RMSSD     pNN20     pNN50  ...       hfp         SD1  \\\n",
       "0  126.424279  177.326336  0.014844  0.010937  ...  0.454831  125.827001   \n",
       "\n",
       "            SD2            pA        pQ      ApEn    shanEn        D2  \\\n",
       "0  47497.302502  5.976443e+06  0.002649  0.161377  4.773326  1.318076   \n",
       "\n",
       "   subject  label  \n",
       "0        2      1  \n",
       "\n",
       "[1 rows x 28 columns]"
      ]
     },
     "execution_count": 7,
     "metadata": {},
     "output_type": "execute_result"
    }
   ],
   "source": [
    "balanced_df.head(1)"
   ]
  },
  {
   "cell_type": "code",
   "execution_count": 8,
   "id": "eb87eb86-4c58-453f-9b8f-c7cb30b59ec1",
   "metadata": {},
   "outputs": [
    {
     "data": {
      "application/vnd.plotly.v1+json": {
       "config": {
        "plotlyServerURL": "https://plot.ly"
       },
       "data": [
        {
         "hole": 0.5,
         "hoverinfo": "label+value",
         "labels": [
          "Stress",
          "Non-Stress"
         ],
         "marker": {
          "colors": [
           "red",
           "royalblue",
           "green",
           "yellow",
           "pink",
           "grey"
          ]
         },
         "textfont": {
          "size": 15
         },
         "type": "pie",
         "values": [
          541,
          541
         ]
        }
       ],
       "layout": {
        "annotations": [
         {
          "font": {
           "size": 15
          },
          "showarrow": false,
          "text": "Stress Condition ",
          "x": 0.5,
          "y": 0.5
         }
        ],
        "autosize": true,
        "template": {
         "data": {
          "bar": [
           {
            "error_x": {
             "color": "#2a3f5f"
            },
            "error_y": {
             "color": "#2a3f5f"
            },
            "marker": {
             "line": {
              "color": "#E5ECF6",
              "width": 0.5
             },
             "pattern": {
              "fillmode": "overlay",
              "size": 10,
              "solidity": 0.2
             }
            },
            "type": "bar"
           }
          ],
          "barpolar": [
           {
            "marker": {
             "line": {
              "color": "#E5ECF6",
              "width": 0.5
             },
             "pattern": {
              "fillmode": "overlay",
              "size": 10,
              "solidity": 0.2
             }
            },
            "type": "barpolar"
           }
          ],
          "carpet": [
           {
            "aaxis": {
             "endlinecolor": "#2a3f5f",
             "gridcolor": "white",
             "linecolor": "white",
             "minorgridcolor": "white",
             "startlinecolor": "#2a3f5f"
            },
            "baxis": {
             "endlinecolor": "#2a3f5f",
             "gridcolor": "white",
             "linecolor": "white",
             "minorgridcolor": "white",
             "startlinecolor": "#2a3f5f"
            },
            "type": "carpet"
           }
          ],
          "choropleth": [
           {
            "colorbar": {
             "outlinewidth": 0,
             "ticks": ""
            },
            "type": "choropleth"
           }
          ],
          "contour": [
           {
            "colorbar": {
             "outlinewidth": 0,
             "ticks": ""
            },
            "colorscale": [
             [
              0,
              "#0d0887"
             ],
             [
              0.1111111111111111,
              "#46039f"
             ],
             [
              0.2222222222222222,
              "#7201a8"
             ],
             [
              0.3333333333333333,
              "#9c179e"
             ],
             [
              0.4444444444444444,
              "#bd3786"
             ],
             [
              0.5555555555555556,
              "#d8576b"
             ],
             [
              0.6666666666666666,
              "#ed7953"
             ],
             [
              0.7777777777777778,
              "#fb9f3a"
             ],
             [
              0.8888888888888888,
              "#fdca26"
             ],
             [
              1,
              "#f0f921"
             ]
            ],
            "type": "contour"
           }
          ],
          "contourcarpet": [
           {
            "colorbar": {
             "outlinewidth": 0,
             "ticks": ""
            },
            "type": "contourcarpet"
           }
          ],
          "heatmap": [
           {
            "colorbar": {
             "outlinewidth": 0,
             "ticks": ""
            },
            "colorscale": [
             [
              0,
              "#0d0887"
             ],
             [
              0.1111111111111111,
              "#46039f"
             ],
             [
              0.2222222222222222,
              "#7201a8"
             ],
             [
              0.3333333333333333,
              "#9c179e"
             ],
             [
              0.4444444444444444,
              "#bd3786"
             ],
             [
              0.5555555555555556,
              "#d8576b"
             ],
             [
              0.6666666666666666,
              "#ed7953"
             ],
             [
              0.7777777777777778,
              "#fb9f3a"
             ],
             [
              0.8888888888888888,
              "#fdca26"
             ],
             [
              1,
              "#f0f921"
             ]
            ],
            "type": "heatmap"
           }
          ],
          "heatmapgl": [
           {
            "colorbar": {
             "outlinewidth": 0,
             "ticks": ""
            },
            "colorscale": [
             [
              0,
              "#0d0887"
             ],
             [
              0.1111111111111111,
              "#46039f"
             ],
             [
              0.2222222222222222,
              "#7201a8"
             ],
             [
              0.3333333333333333,
              "#9c179e"
             ],
             [
              0.4444444444444444,
              "#bd3786"
             ],
             [
              0.5555555555555556,
              "#d8576b"
             ],
             [
              0.6666666666666666,
              "#ed7953"
             ],
             [
              0.7777777777777778,
              "#fb9f3a"
             ],
             [
              0.8888888888888888,
              "#fdca26"
             ],
             [
              1,
              "#f0f921"
             ]
            ],
            "type": "heatmapgl"
           }
          ],
          "histogram": [
           {
            "marker": {
             "pattern": {
              "fillmode": "overlay",
              "size": 10,
              "solidity": 0.2
             }
            },
            "type": "histogram"
           }
          ],
          "histogram2d": [
           {
            "colorbar": {
             "outlinewidth": 0,
             "ticks": ""
            },
            "colorscale": [
             [
              0,
              "#0d0887"
             ],
             [
              0.1111111111111111,
              "#46039f"
             ],
             [
              0.2222222222222222,
              "#7201a8"
             ],
             [
              0.3333333333333333,
              "#9c179e"
             ],
             [
              0.4444444444444444,
              "#bd3786"
             ],
             [
              0.5555555555555556,
              "#d8576b"
             ],
             [
              0.6666666666666666,
              "#ed7953"
             ],
             [
              0.7777777777777778,
              "#fb9f3a"
             ],
             [
              0.8888888888888888,
              "#fdca26"
             ],
             [
              1,
              "#f0f921"
             ]
            ],
            "type": "histogram2d"
           }
          ],
          "histogram2dcontour": [
           {
            "colorbar": {
             "outlinewidth": 0,
             "ticks": ""
            },
            "colorscale": [
             [
              0,
              "#0d0887"
             ],
             [
              0.1111111111111111,
              "#46039f"
             ],
             [
              0.2222222222222222,
              "#7201a8"
             ],
             [
              0.3333333333333333,
              "#9c179e"
             ],
             [
              0.4444444444444444,
              "#bd3786"
             ],
             [
              0.5555555555555556,
              "#d8576b"
             ],
             [
              0.6666666666666666,
              "#ed7953"
             ],
             [
              0.7777777777777778,
              "#fb9f3a"
             ],
             [
              0.8888888888888888,
              "#fdca26"
             ],
             [
              1,
              "#f0f921"
             ]
            ],
            "type": "histogram2dcontour"
           }
          ],
          "mesh3d": [
           {
            "colorbar": {
             "outlinewidth": 0,
             "ticks": ""
            },
            "type": "mesh3d"
           }
          ],
          "parcoords": [
           {
            "line": {
             "colorbar": {
              "outlinewidth": 0,
              "ticks": ""
             }
            },
            "type": "parcoords"
           }
          ],
          "pie": [
           {
            "automargin": true,
            "type": "pie"
           }
          ],
          "scatter": [
           {
            "fillpattern": {
             "fillmode": "overlay",
             "size": 10,
             "solidity": 0.2
            },
            "type": "scatter"
           }
          ],
          "scatter3d": [
           {
            "line": {
             "colorbar": {
              "outlinewidth": 0,
              "ticks": ""
             }
            },
            "marker": {
             "colorbar": {
              "outlinewidth": 0,
              "ticks": ""
             }
            },
            "type": "scatter3d"
           }
          ],
          "scattercarpet": [
           {
            "marker": {
             "colorbar": {
              "outlinewidth": 0,
              "ticks": ""
             }
            },
            "type": "scattercarpet"
           }
          ],
          "scattergeo": [
           {
            "marker": {
             "colorbar": {
              "outlinewidth": 0,
              "ticks": ""
             }
            },
            "type": "scattergeo"
           }
          ],
          "scattergl": [
           {
            "marker": {
             "colorbar": {
              "outlinewidth": 0,
              "ticks": ""
             }
            },
            "type": "scattergl"
           }
          ],
          "scattermapbox": [
           {
            "marker": {
             "colorbar": {
              "outlinewidth": 0,
              "ticks": ""
             }
            },
            "type": "scattermapbox"
           }
          ],
          "scatterpolar": [
           {
            "marker": {
             "colorbar": {
              "outlinewidth": 0,
              "ticks": ""
             }
            },
            "type": "scatterpolar"
           }
          ],
          "scatterpolargl": [
           {
            "marker": {
             "colorbar": {
              "outlinewidth": 0,
              "ticks": ""
             }
            },
            "type": "scatterpolargl"
           }
          ],
          "scatterternary": [
           {
            "marker": {
             "colorbar": {
              "outlinewidth": 0,
              "ticks": ""
             }
            },
            "type": "scatterternary"
           }
          ],
          "surface": [
           {
            "colorbar": {
             "outlinewidth": 0,
             "ticks": ""
            },
            "colorscale": [
             [
              0,
              "#0d0887"
             ],
             [
              0.1111111111111111,
              "#46039f"
             ],
             [
              0.2222222222222222,
              "#7201a8"
             ],
             [
              0.3333333333333333,
              "#9c179e"
             ],
             [
              0.4444444444444444,
              "#bd3786"
             ],
             [
              0.5555555555555556,
              "#d8576b"
             ],
             [
              0.6666666666666666,
              "#ed7953"
             ],
             [
              0.7777777777777778,
              "#fb9f3a"
             ],
             [
              0.8888888888888888,
              "#fdca26"
             ],
             [
              1,
              "#f0f921"
             ]
            ],
            "type": "surface"
           }
          ],
          "table": [
           {
            "cells": {
             "fill": {
              "color": "#EBF0F8"
             },
             "line": {
              "color": "white"
             }
            },
            "header": {
             "fill": {
              "color": "#C8D4E3"
             },
             "line": {
              "color": "white"
             }
            },
            "type": "table"
           }
          ]
         },
         "layout": {
          "annotationdefaults": {
           "arrowcolor": "#2a3f5f",
           "arrowhead": 0,
           "arrowwidth": 1
          },
          "autotypenumbers": "strict",
          "coloraxis": {
           "colorbar": {
            "outlinewidth": 0,
            "ticks": ""
           }
          },
          "colorscale": {
           "diverging": [
            [
             0,
             "#8e0152"
            ],
            [
             0.1,
             "#c51b7d"
            ],
            [
             0.2,
             "#de77ae"
            ],
            [
             0.3,
             "#f1b6da"
            ],
            [
             0.4,
             "#fde0ef"
            ],
            [
             0.5,
             "#f7f7f7"
            ],
            [
             0.6,
             "#e6f5d0"
            ],
            [
             0.7,
             "#b8e186"
            ],
            [
             0.8,
             "#7fbc41"
            ],
            [
             0.9,
             "#4d9221"
            ],
            [
             1,
             "#276419"
            ]
           ],
           "sequential": [
            [
             0,
             "#0d0887"
            ],
            [
             0.1111111111111111,
             "#46039f"
            ],
            [
             0.2222222222222222,
             "#7201a8"
            ],
            [
             0.3333333333333333,
             "#9c179e"
            ],
            [
             0.4444444444444444,
             "#bd3786"
            ],
            [
             0.5555555555555556,
             "#d8576b"
            ],
            [
             0.6666666666666666,
             "#ed7953"
            ],
            [
             0.7777777777777778,
             "#fb9f3a"
            ],
            [
             0.8888888888888888,
             "#fdca26"
            ],
            [
             1,
             "#f0f921"
            ]
           ],
           "sequentialminus": [
            [
             0,
             "#0d0887"
            ],
            [
             0.1111111111111111,
             "#46039f"
            ],
            [
             0.2222222222222222,
             "#7201a8"
            ],
            [
             0.3333333333333333,
             "#9c179e"
            ],
            [
             0.4444444444444444,
             "#bd3786"
            ],
            [
             0.5555555555555556,
             "#d8576b"
            ],
            [
             0.6666666666666666,
             "#ed7953"
            ],
            [
             0.7777777777777778,
             "#fb9f3a"
            ],
            [
             0.8888888888888888,
             "#fdca26"
            ],
            [
             1,
             "#f0f921"
            ]
           ]
          },
          "colorway": [
           "#636efa",
           "#EF553B",
           "#00cc96",
           "#ab63fa",
           "#FFA15A",
           "#19d3f3",
           "#FF6692",
           "#B6E880",
           "#FF97FF",
           "#FECB52"
          ],
          "font": {
           "color": "#2a3f5f"
          },
          "geo": {
           "bgcolor": "white",
           "lakecolor": "white",
           "landcolor": "#E5ECF6",
           "showlakes": true,
           "showland": true,
           "subunitcolor": "white"
          },
          "hoverlabel": {
           "align": "left"
          },
          "hovermode": "closest",
          "mapbox": {
           "style": "light"
          },
          "paper_bgcolor": "white",
          "plot_bgcolor": "#E5ECF6",
          "polar": {
           "angularaxis": {
            "gridcolor": "white",
            "linecolor": "white",
            "ticks": ""
           },
           "bgcolor": "#E5ECF6",
           "radialaxis": {
            "gridcolor": "white",
            "linecolor": "white",
            "ticks": ""
           }
          },
          "scene": {
           "xaxis": {
            "backgroundcolor": "#E5ECF6",
            "gridcolor": "white",
            "gridwidth": 2,
            "linecolor": "white",
            "showbackground": true,
            "ticks": "",
            "zerolinecolor": "white"
           },
           "yaxis": {
            "backgroundcolor": "#E5ECF6",
            "gridcolor": "white",
            "gridwidth": 2,
            "linecolor": "white",
            "showbackground": true,
            "ticks": "",
            "zerolinecolor": "white"
           },
           "zaxis": {
            "backgroundcolor": "#E5ECF6",
            "gridcolor": "white",
            "gridwidth": 2,
            "linecolor": "white",
            "showbackground": true,
            "ticks": "",
            "zerolinecolor": "white"
           }
          },
          "shapedefaults": {
           "line": {
            "color": "#2a3f5f"
           }
          },
          "ternary": {
           "aaxis": {
            "gridcolor": "white",
            "linecolor": "white",
            "ticks": ""
           },
           "baxis": {
            "gridcolor": "white",
            "linecolor": "white",
            "ticks": ""
           },
           "bgcolor": "#E5ECF6",
           "caxis": {
            "gridcolor": "white",
            "linecolor": "white",
            "ticks": ""
           }
          },
          "title": {
           "x": 0.05
          },
          "xaxis": {
           "automargin": true,
           "gridcolor": "white",
           "linecolor": "white",
           "ticks": "",
           "title": {
            "standoff": 15
           },
           "zerolinecolor": "white",
           "zerolinewidth": 2
          },
          "yaxis": {
           "automargin": true,
           "gridcolor": "white",
           "linecolor": "white",
           "ticks": "",
           "title": {
            "standoff": 15
           },
           "zerolinecolor": "white",
           "zerolinewidth": 2
          }
         }
        }
       }
      }
     },
     "metadata": {},
     "output_type": "display_data"
    }
   ],
   "source": [
    "labels = ['Stress','Non-Stress']\n",
    "values = balanced_df['label'].value_counts()\n",
    "colors = ['red', 'royalblue','green','yellow','pink','grey']\n",
    "fig = go.Figure(data=[go.Pie(labels=labels, values=values, hole=.5)])\n",
    "fig.update_traces(hoverinfo='label+value',textfont_size=15,marker=dict(colors=colors))\n",
    "fig.update_layout(annotations=[dict(text='Stress Condition ', \n",
    "                                    x=0.50, y=0.5, font_size=15, \n",
    "                                    showarrow=False)])\n",
    "fig.show()\n",
    "\n"
   ]
  },
  {
   "cell_type": "markdown",
   "id": "b240c87c-28be-432c-8b02-eb269b42d456",
   "metadata": {},
   "source": [
    "#### Description of a Simple Heart Rate Variability (HRV) Plot\n",
    "\n",
    "1. **X-Axis (Samples)**: The horizontal axis represents time, with data points evenly spaced or timestamped along the axis. It typically spans a specific duration or time period during which HRV measurements were taken. Time may be displayed in minutes, hours, or other relevant units, depending on the data's time resolution.\n",
    "\n",
    "2. **Y-Axis (HRV Metric)**: The vertical axis represents the HRV metric being measured. Common HRV metrics include:\n",
    "\n",
    "   - **SDNN (Standard Deviation of NN Intervals)**: A measure of overall HRV, reflecting both sympathetic and parasympathetic nervous system influence on heart rate.\n",
    "   \n",
    "   - **RMSSD (Root Mean Square of Successive Differences)**: A marker of parasympathetic (vagal) activity, specifically reflecting short-term HRV and respiratory sinus arrhythmia.\n",
    "   \n",
    "   - **pNN50 (Percentage of NN50 Intervals)**: Indicates the proportion of adjacent NN intervals (R-R intervals) differing by more than 50 ms, often used as a measure of high-frequency HRV."
   ]
  },
  {
   "cell_type": "code",
   "execution_count": 9,
   "id": "4e96fc05-b54f-4fee-9452-bda2a224ca1e",
   "metadata": {
    "scrolled": true
   },
   "outputs": [
    {
     "data": {
      "application/vnd.plotly.v1+json": {
       "config": {
        "plotlyServerURL": "https://plot.ly"
       },
       "data": [
        {
         "mode": "lines",
         "name": "HR_mean",
         "type": "scatter",
         "x": [
          0,
          1,
          2,
          3,
          4,
          5,
          6,
          7,
          8,
          9,
          10,
          11,
          12,
          13,
          14,
          15,
          16,
          17,
          18,
          19,
          20,
          21,
          22,
          23,
          24,
          25,
          26,
          27,
          28,
          29,
          30,
          31,
          32,
          33,
          34,
          35,
          36,
          37,
          38,
          39,
          40,
          41,
          42,
          43,
          44,
          45,
          46,
          47,
          48,
          49,
          50,
          51,
          52,
          53,
          54,
          55,
          56,
          57,
          58,
          59,
          60,
          61,
          62,
          63,
          64,
          65,
          66,
          67,
          68,
          69
         ],
         "xaxis": "x",
         "y": [
          83.08917854639756,
          79.55320935984571,
          78.43289219694883,
          78.5065121755442,
          77.7266602708291,
          78.8809644211902,
          81.09681796048696,
          74.47550026534157,
          72.70460314070594,
          72.07730111606976,
          71.89204612723275,
          73.83759120691603,
          77.041024391551,
          78.90688437203382,
          78.62779841088711,
          75.28476472635872,
          74.82901878717321,
          73.15659488127193,
          71.59281457558197,
          71.07812229479657,
          70.59304362566506,
          70.07573853720025,
          74.06695007437764,
          72.9743420444481,
          76.07778285764562,
          75.94843219680716,
          75.01251015691106,
          91.83861384290717,
          94.02957360836643,
          95.72787194510052,
          96.24750754585968,
          85.12150110211802,
          75.40790839114506,
          84.59205518198253,
          88.83629689906725,
          91.80030543782038,
          89.85963302599646,
          81.92809602248137,
          82.52647591627607,
          81.9385409744599,
          75.74887436296385,
          70.01716823019568,
          71.97597768843069,
          70.89975779818913,
          55.83792361096353,
          55.30278182918058,
          54.00075193570293,
          55.322113040881696,
          60.16475512332005,
          62.40246194657325,
          58.09257912998967,
          57.399832002572445,
          60.03290096213111,
          59.906226133196846,
          56.46536960435592,
          55.66405158729256,
          54.28090374692021,
          55.290084631988094,
          55.94085678408701,
          56.41915131325665,
          55.040158132177886,
          53.64089469854633,
          104.33978670682048,
          98.46889227223866,
          94.5854356231635,
          98.25539895271008,
          100.09293729114434,
          98.24488678995262,
          91.2900462021637,
          93.44159196278216
         ],
         "yaxis": "y"
        },
        {
         "mode": "lines",
         "name": "medianNN",
         "type": "scatter",
         "x": [
          0,
          1,
          2,
          3,
          4,
          5,
          6,
          7,
          8,
          9,
          10,
          11,
          12,
          13,
          14,
          15,
          16,
          17,
          18,
          19,
          20,
          21,
          22,
          23,
          24,
          25,
          26,
          27,
          28,
          29,
          30,
          31,
          32,
          33,
          34,
          35,
          36,
          37,
          38,
          39,
          40,
          41,
          42,
          43,
          44,
          45,
          46,
          47,
          48,
          49,
          50,
          51,
          52,
          53,
          54,
          55,
          56,
          57,
          58,
          59,
          60,
          61,
          62,
          63,
          64,
          65,
          66,
          67,
          68,
          69
         ],
         "xaxis": "x3",
         "y": [
          812.5,
          828.125,
          828.125,
          828.125,
          828.125,
          828.125,
          828.125,
          828.125,
          843.75,
          843.75,
          843.75,
          843.75,
          835.9375,
          828.125,
          843.75,
          859.375,
          859.375,
          859.375,
          859.375,
          843.75,
          843.75,
          859.375,
          843.75,
          843.75,
          843.75,
          828.125,
          828.125,
          687.5,
          671.875,
          671.875,
          671.875,
          765.625,
          812.5,
          742.1875,
          718.75,
          687.5,
          718.75,
          765.625,
          765.625,
          765.625,
          875,
          906.25,
          890.625,
          906.25,
          1125,
          1125,
          1156.25,
          1117.1875,
          1070.3125,
          1015.625,
          1093.75,
          1125,
          1093.75,
          1062.5,
          1078.125,
          1109.375,
          1140.625,
          1156.25,
          1156.25,
          1109.375,
          1125,
          1140.625,
          578.125,
          593.75,
          640.625,
          625,
          609.375,
          625,
          687.5,
          640.625
         ],
         "yaxis": "y3"
        },
        {
         "mode": "lines",
         "name": "SDNN",
         "type": "scatter",
         "x": [
          0,
          1,
          2,
          3,
          4,
          5,
          6,
          7,
          8,
          9,
          10,
          11,
          12,
          13,
          14,
          15,
          16,
          17,
          18,
          19,
          20,
          21,
          22,
          23,
          24,
          25,
          26,
          27,
          28,
          29,
          30,
          31,
          32,
          33,
          34,
          35,
          36,
          37,
          38,
          39,
          40,
          41,
          42,
          43,
          44,
          45,
          46,
          47,
          48,
          49,
          50,
          51,
          52,
          53,
          54,
          55,
          56,
          57,
          58,
          59,
          60,
          61,
          62,
          63,
          64,
          65,
          66,
          67,
          68,
          69
         ],
         "xaxis": "x2",
         "y": [
          153.2351266260054,
          138.02411416576052,
          131.46831604361654,
          120.73061258758422,
          117.43299902182206,
          139.38093709477522,
          151.90177775605267,
          97.59711608491904,
          91.68413942931302,
          76.21887851845906,
          75.84162794240082,
          96.52773329480856,
          115.90957187295146,
          125.759493311079,
          131.7956698924533,
          115.73229135825297,
          119.7927007923311,
          107.37357360135074,
          88.52085951154956,
          79.29921760149028,
          67.09204702077214,
          69.21449127541712,
          108.12949419328592,
          101.88241086106954,
          121.12308420246556,
          109.0266719689145,
          87.68149862567637,
          155.35436985905116,
          176.39418683048282,
          183.6832630151553,
          189.0502589442845,
          177.44219153517452,
          151.2071166580055,
          158.79793385317691,
          152.34839978242266,
          158.8135411023773,
          158.3153784041721,
          147.45314843561675,
          154.82459333198076,
          159.25601110235488,
          146.4585075300995,
          116.84561908104422,
          131.1360219390538,
          136.92927006305118,
          131.6321942005295,
          123.730788052327,
          116.78431346625916,
          113.92434661451084,
          156.26797644783122,
          142.32737829545215,
          142.20520207433515,
          154.3603988918209,
          165.07759028128552,
          155.27560316707684,
          127.78452080842166,
          123.0524816140779,
          104.7852270373583,
          149.9556760756802,
          148.84435107146163,
          145.33180443342613,
          133.83131115770018,
          114.05859349730396,
          127.65583315719104,
          128.8429890876156,
          135.8702697296579,
          138.59607394427297,
          154.28272565411106,
          152.04619681466443,
          147.9883620815348,
          108.37753298157516
         ],
         "yaxis": "y2"
        },
        {
         "mode": "lines",
         "name": "RMSSD",
         "type": "scatter",
         "x": [
          0,
          1,
          2,
          3,
          4,
          5,
          6,
          7,
          8,
          9,
          10,
          11,
          12,
          13,
          14,
          15,
          16,
          17,
          18,
          19,
          20,
          21,
          22,
          23,
          24,
          25,
          26,
          27,
          28,
          29,
          30,
          31,
          32,
          33,
          34,
          35,
          36,
          37,
          38,
          39,
          40,
          41,
          42,
          43,
          44,
          45,
          46,
          47,
          48,
          49,
          50,
          51,
          52,
          53,
          54,
          55,
          56,
          57,
          58,
          59,
          60,
          61,
          62,
          63,
          64,
          65,
          66,
          67,
          68,
          69
         ],
         "xaxis": "x4",
         "y": [
          177.32633642288118,
          156.523198659975,
          154.35775507218912,
          139.89547289457605,
          138.70081780943997,
          139.88553490600754,
          171.49990387040762,
          116.20484470436313,
          129.02772656420885,
          100.66649535040352,
          97.91243464077208,
          109.080901591916,
          114.4934396329244,
          128.0551130535859,
          133.50683156331016,
          120.7141905973244,
          137.6032912614282,
          128.71364328458966,
          105.29767933410568,
          94.36018775229972,
          79.67217989988727,
          85.34913548083297,
          136.32139599816958,
          130.1041249666333,
          143.48716565160373,
          139.72817260720635,
          102.36427278628857,
          201.00256872175385,
          214.07443939103504,
          221.17683723295488,
          230.93146071577024,
          249.0325381474874,
          209.4302410246781,
          204.7857438220438,
          213.2989623344993,
          207.61001327883093,
          199.3438128690396,
          198.83123651132829,
          197.74432179068685,
          215.6108998671204,
          156.41476404642,
          131.9056046635876,
          123.71759004560973,
          128.57936008441536,
          156.27391398631457,
          152.7789321026132,
          139.52420029193954,
          146.0787044241424,
          172.3171703094081,
          159.87244380658748,
          154.14703229640676,
          171.28864768038724,
          181.8930427023433,
          196.14093882725285,
          168.42038309413766,
          159.13004314622813,
          107.34727523323542,
          129.37231612889812,
          146.52706500034824,
          194.4180909720652,
          175.76619124840073,
          159.7953049175232,
          166.63731384283082,
          167.7338626259086,
          170.54625847085913,
          168.9642055783406,
          190.4775019123153,
          178.7158029814211,
          175.87509607276596,
          143.20549046737
         ],
         "yaxis": "y4"
        }
       ],
       "layout": {
        "annotations": [
         {
          "font": {
           "color": "white",
           "size": 16
          },
          "showarrow": false,
          "text": "HR_mean",
          "x": 0.225,
          "xanchor": "center",
          "xref": "paper",
          "y": 1,
          "yanchor": "bottom",
          "yref": "paper"
         },
         {
          "font": {
           "color": "white",
           "size": 16
          },
          "showarrow": false,
          "text": "medianNN",
          "x": 0.775,
          "xanchor": "center",
          "xref": "paper",
          "y": 1,
          "yanchor": "bottom",
          "yref": "paper"
         },
         {
          "font": {
           "color": "white",
           "size": 16
          },
          "showarrow": false,
          "text": "SDNN",
          "x": 0.225,
          "xanchor": "center",
          "xref": "paper",
          "y": 0.375,
          "yanchor": "bottom",
          "yref": "paper"
         },
         {
          "font": {
           "color": "white",
           "size": 16
          },
          "showarrow": false,
          "text": "RMSSD",
          "x": 0.775,
          "xanchor": "center",
          "xref": "paper",
          "y": 0.375,
          "yanchor": "bottom",
          "yref": "paper"
         }
        ],
        "font": {
         "color": "white"
        },
        "height": 600,
        "paper_bgcolor": "black",
        "plot_bgcolor": "black",
        "showlegend": true,
        "template": {
         "data": {
          "bar": [
           {
            "error_x": {
             "color": "#2a3f5f"
            },
            "error_y": {
             "color": "#2a3f5f"
            },
            "marker": {
             "line": {
              "color": "#E5ECF6",
              "width": 0.5
             },
             "pattern": {
              "fillmode": "overlay",
              "size": 10,
              "solidity": 0.2
             }
            },
            "type": "bar"
           }
          ],
          "barpolar": [
           {
            "marker": {
             "line": {
              "color": "#E5ECF6",
              "width": 0.5
             },
             "pattern": {
              "fillmode": "overlay",
              "size": 10,
              "solidity": 0.2
             }
            },
            "type": "barpolar"
           }
          ],
          "carpet": [
           {
            "aaxis": {
             "endlinecolor": "#2a3f5f",
             "gridcolor": "white",
             "linecolor": "white",
             "minorgridcolor": "white",
             "startlinecolor": "#2a3f5f"
            },
            "baxis": {
             "endlinecolor": "#2a3f5f",
             "gridcolor": "white",
             "linecolor": "white",
             "minorgridcolor": "white",
             "startlinecolor": "#2a3f5f"
            },
            "type": "carpet"
           }
          ],
          "choropleth": [
           {
            "colorbar": {
             "outlinewidth": 0,
             "ticks": ""
            },
            "type": "choropleth"
           }
          ],
          "contour": [
           {
            "colorbar": {
             "outlinewidth": 0,
             "ticks": ""
            },
            "colorscale": [
             [
              0,
              "#0d0887"
             ],
             [
              0.1111111111111111,
              "#46039f"
             ],
             [
              0.2222222222222222,
              "#7201a8"
             ],
             [
              0.3333333333333333,
              "#9c179e"
             ],
             [
              0.4444444444444444,
              "#bd3786"
             ],
             [
              0.5555555555555556,
              "#d8576b"
             ],
             [
              0.6666666666666666,
              "#ed7953"
             ],
             [
              0.7777777777777778,
              "#fb9f3a"
             ],
             [
              0.8888888888888888,
              "#fdca26"
             ],
             [
              1,
              "#f0f921"
             ]
            ],
            "type": "contour"
           }
          ],
          "contourcarpet": [
           {
            "colorbar": {
             "outlinewidth": 0,
             "ticks": ""
            },
            "type": "contourcarpet"
           }
          ],
          "heatmap": [
           {
            "colorbar": {
             "outlinewidth": 0,
             "ticks": ""
            },
            "colorscale": [
             [
              0,
              "#0d0887"
             ],
             [
              0.1111111111111111,
              "#46039f"
             ],
             [
              0.2222222222222222,
              "#7201a8"
             ],
             [
              0.3333333333333333,
              "#9c179e"
             ],
             [
              0.4444444444444444,
              "#bd3786"
             ],
             [
              0.5555555555555556,
              "#d8576b"
             ],
             [
              0.6666666666666666,
              "#ed7953"
             ],
             [
              0.7777777777777778,
              "#fb9f3a"
             ],
             [
              0.8888888888888888,
              "#fdca26"
             ],
             [
              1,
              "#f0f921"
             ]
            ],
            "type": "heatmap"
           }
          ],
          "heatmapgl": [
           {
            "colorbar": {
             "outlinewidth": 0,
             "ticks": ""
            },
            "colorscale": [
             [
              0,
              "#0d0887"
             ],
             [
              0.1111111111111111,
              "#46039f"
             ],
             [
              0.2222222222222222,
              "#7201a8"
             ],
             [
              0.3333333333333333,
              "#9c179e"
             ],
             [
              0.4444444444444444,
              "#bd3786"
             ],
             [
              0.5555555555555556,
              "#d8576b"
             ],
             [
              0.6666666666666666,
              "#ed7953"
             ],
             [
              0.7777777777777778,
              "#fb9f3a"
             ],
             [
              0.8888888888888888,
              "#fdca26"
             ],
             [
              1,
              "#f0f921"
             ]
            ],
            "type": "heatmapgl"
           }
          ],
          "histogram": [
           {
            "marker": {
             "pattern": {
              "fillmode": "overlay",
              "size": 10,
              "solidity": 0.2
             }
            },
            "type": "histogram"
           }
          ],
          "histogram2d": [
           {
            "colorbar": {
             "outlinewidth": 0,
             "ticks": ""
            },
            "colorscale": [
             [
              0,
              "#0d0887"
             ],
             [
              0.1111111111111111,
              "#46039f"
             ],
             [
              0.2222222222222222,
              "#7201a8"
             ],
             [
              0.3333333333333333,
              "#9c179e"
             ],
             [
              0.4444444444444444,
              "#bd3786"
             ],
             [
              0.5555555555555556,
              "#d8576b"
             ],
             [
              0.6666666666666666,
              "#ed7953"
             ],
             [
              0.7777777777777778,
              "#fb9f3a"
             ],
             [
              0.8888888888888888,
              "#fdca26"
             ],
             [
              1,
              "#f0f921"
             ]
            ],
            "type": "histogram2d"
           }
          ],
          "histogram2dcontour": [
           {
            "colorbar": {
             "outlinewidth": 0,
             "ticks": ""
            },
            "colorscale": [
             [
              0,
              "#0d0887"
             ],
             [
              0.1111111111111111,
              "#46039f"
             ],
             [
              0.2222222222222222,
              "#7201a8"
             ],
             [
              0.3333333333333333,
              "#9c179e"
             ],
             [
              0.4444444444444444,
              "#bd3786"
             ],
             [
              0.5555555555555556,
              "#d8576b"
             ],
             [
              0.6666666666666666,
              "#ed7953"
             ],
             [
              0.7777777777777778,
              "#fb9f3a"
             ],
             [
              0.8888888888888888,
              "#fdca26"
             ],
             [
              1,
              "#f0f921"
             ]
            ],
            "type": "histogram2dcontour"
           }
          ],
          "mesh3d": [
           {
            "colorbar": {
             "outlinewidth": 0,
             "ticks": ""
            },
            "type": "mesh3d"
           }
          ],
          "parcoords": [
           {
            "line": {
             "colorbar": {
              "outlinewidth": 0,
              "ticks": ""
             }
            },
            "type": "parcoords"
           }
          ],
          "pie": [
           {
            "automargin": true,
            "type": "pie"
           }
          ],
          "scatter": [
           {
            "fillpattern": {
             "fillmode": "overlay",
             "size": 10,
             "solidity": 0.2
            },
            "type": "scatter"
           }
          ],
          "scatter3d": [
           {
            "line": {
             "colorbar": {
              "outlinewidth": 0,
              "ticks": ""
             }
            },
            "marker": {
             "colorbar": {
              "outlinewidth": 0,
              "ticks": ""
             }
            },
            "type": "scatter3d"
           }
          ],
          "scattercarpet": [
           {
            "marker": {
             "colorbar": {
              "outlinewidth": 0,
              "ticks": ""
             }
            },
            "type": "scattercarpet"
           }
          ],
          "scattergeo": [
           {
            "marker": {
             "colorbar": {
              "outlinewidth": 0,
              "ticks": ""
             }
            },
            "type": "scattergeo"
           }
          ],
          "scattergl": [
           {
            "marker": {
             "colorbar": {
              "outlinewidth": 0,
              "ticks": ""
             }
            },
            "type": "scattergl"
           }
          ],
          "scattermapbox": [
           {
            "marker": {
             "colorbar": {
              "outlinewidth": 0,
              "ticks": ""
             }
            },
            "type": "scattermapbox"
           }
          ],
          "scatterpolar": [
           {
            "marker": {
             "colorbar": {
              "outlinewidth": 0,
              "ticks": ""
             }
            },
            "type": "scatterpolar"
           }
          ],
          "scatterpolargl": [
           {
            "marker": {
             "colorbar": {
              "outlinewidth": 0,
              "ticks": ""
             }
            },
            "type": "scatterpolargl"
           }
          ],
          "scatterternary": [
           {
            "marker": {
             "colorbar": {
              "outlinewidth": 0,
              "ticks": ""
             }
            },
            "type": "scatterternary"
           }
          ],
          "surface": [
           {
            "colorbar": {
             "outlinewidth": 0,
             "ticks": ""
            },
            "colorscale": [
             [
              0,
              "#0d0887"
             ],
             [
              0.1111111111111111,
              "#46039f"
             ],
             [
              0.2222222222222222,
              "#7201a8"
             ],
             [
              0.3333333333333333,
              "#9c179e"
             ],
             [
              0.4444444444444444,
              "#bd3786"
             ],
             [
              0.5555555555555556,
              "#d8576b"
             ],
             [
              0.6666666666666666,
              "#ed7953"
             ],
             [
              0.7777777777777778,
              "#fb9f3a"
             ],
             [
              0.8888888888888888,
              "#fdca26"
             ],
             [
              1,
              "#f0f921"
             ]
            ],
            "type": "surface"
           }
          ],
          "table": [
           {
            "cells": {
             "fill": {
              "color": "#EBF0F8"
             },
             "line": {
              "color": "white"
             }
            },
            "header": {
             "fill": {
              "color": "#C8D4E3"
             },
             "line": {
              "color": "white"
             }
            },
            "type": "table"
           }
          ]
         },
         "layout": {
          "annotationdefaults": {
           "arrowcolor": "#2a3f5f",
           "arrowhead": 0,
           "arrowwidth": 1
          },
          "autotypenumbers": "strict",
          "coloraxis": {
           "colorbar": {
            "outlinewidth": 0,
            "ticks": ""
           }
          },
          "colorscale": {
           "diverging": [
            [
             0,
             "#8e0152"
            ],
            [
             0.1,
             "#c51b7d"
            ],
            [
             0.2,
             "#de77ae"
            ],
            [
             0.3,
             "#f1b6da"
            ],
            [
             0.4,
             "#fde0ef"
            ],
            [
             0.5,
             "#f7f7f7"
            ],
            [
             0.6,
             "#e6f5d0"
            ],
            [
             0.7,
             "#b8e186"
            ],
            [
             0.8,
             "#7fbc41"
            ],
            [
             0.9,
             "#4d9221"
            ],
            [
             1,
             "#276419"
            ]
           ],
           "sequential": [
            [
             0,
             "#0d0887"
            ],
            [
             0.1111111111111111,
             "#46039f"
            ],
            [
             0.2222222222222222,
             "#7201a8"
            ],
            [
             0.3333333333333333,
             "#9c179e"
            ],
            [
             0.4444444444444444,
             "#bd3786"
            ],
            [
             0.5555555555555556,
             "#d8576b"
            ],
            [
             0.6666666666666666,
             "#ed7953"
            ],
            [
             0.7777777777777778,
             "#fb9f3a"
            ],
            [
             0.8888888888888888,
             "#fdca26"
            ],
            [
             1,
             "#f0f921"
            ]
           ],
           "sequentialminus": [
            [
             0,
             "#0d0887"
            ],
            [
             0.1111111111111111,
             "#46039f"
            ],
            [
             0.2222222222222222,
             "#7201a8"
            ],
            [
             0.3333333333333333,
             "#9c179e"
            ],
            [
             0.4444444444444444,
             "#bd3786"
            ],
            [
             0.5555555555555556,
             "#d8576b"
            ],
            [
             0.6666666666666666,
             "#ed7953"
            ],
            [
             0.7777777777777778,
             "#fb9f3a"
            ],
            [
             0.8888888888888888,
             "#fdca26"
            ],
            [
             1,
             "#f0f921"
            ]
           ]
          },
          "colorway": [
           "#636efa",
           "#EF553B",
           "#00cc96",
           "#ab63fa",
           "#FFA15A",
           "#19d3f3",
           "#FF6692",
           "#B6E880",
           "#FF97FF",
           "#FECB52"
          ],
          "font": {
           "color": "#2a3f5f"
          },
          "geo": {
           "bgcolor": "white",
           "lakecolor": "white",
           "landcolor": "#E5ECF6",
           "showlakes": true,
           "showland": true,
           "subunitcolor": "white"
          },
          "hoverlabel": {
           "align": "left"
          },
          "hovermode": "closest",
          "mapbox": {
           "style": "light"
          },
          "paper_bgcolor": "white",
          "plot_bgcolor": "#E5ECF6",
          "polar": {
           "angularaxis": {
            "gridcolor": "white",
            "linecolor": "white",
            "ticks": ""
           },
           "bgcolor": "#E5ECF6",
           "radialaxis": {
            "gridcolor": "white",
            "linecolor": "white",
            "ticks": ""
           }
          },
          "scene": {
           "xaxis": {
            "backgroundcolor": "#E5ECF6",
            "gridcolor": "white",
            "gridwidth": 2,
            "linecolor": "white",
            "showbackground": true,
            "ticks": "",
            "zerolinecolor": "white"
           },
           "yaxis": {
            "backgroundcolor": "#E5ECF6",
            "gridcolor": "white",
            "gridwidth": 2,
            "linecolor": "white",
            "showbackground": true,
            "ticks": "",
            "zerolinecolor": "white"
           },
           "zaxis": {
            "backgroundcolor": "#E5ECF6",
            "gridcolor": "white",
            "gridwidth": 2,
            "linecolor": "white",
            "showbackground": true,
            "ticks": "",
            "zerolinecolor": "white"
           }
          },
          "shapedefaults": {
           "line": {
            "color": "#2a3f5f"
           }
          },
          "ternary": {
           "aaxis": {
            "gridcolor": "white",
            "linecolor": "white",
            "ticks": ""
           },
           "baxis": {
            "gridcolor": "white",
            "linecolor": "white",
            "ticks": ""
           },
           "bgcolor": "#E5ECF6",
           "caxis": {
            "gridcolor": "white",
            "linecolor": "white",
            "ticks": ""
           }
          },
          "title": {
           "x": 0.05
          },
          "xaxis": {
           "automargin": true,
           "gridcolor": "white",
           "linecolor": "white",
           "ticks": "",
           "title": {
            "standoff": 15
           },
           "zerolinecolor": "white",
           "zerolinewidth": 2
          },
          "yaxis": {
           "automargin": true,
           "gridcolor": "white",
           "linecolor": "white",
           "ticks": "",
           "title": {
            "standoff": 15
           },
           "zerolinecolor": "white",
           "zerolinewidth": 2
          }
         }
        },
        "title": {
         "text": "Heart Rate Analysis"
        },
        "width": 900,
        "xaxis": {
         "anchor": "y",
         "autorange": true,
         "domain": [
          0,
          0.45
         ],
         "range": [
          0,
          69
         ],
         "showgrid": false,
         "showline": true,
         "title": {
          "text": "Sample"
         },
         "type": "linear"
        },
        "xaxis2": {
         "anchor": "y2",
         "autorange": true,
         "domain": [
          0.55,
          1
         ],
         "range": [
          0,
          69
         ],
         "title": {
          "text": "Sample"
         },
         "type": "linear"
        },
        "xaxis3": {
         "anchor": "y3",
         "autorange": true,
         "domain": [
          0,
          0.45
         ],
         "range": [
          0,
          69
         ],
         "title": {
          "text": "Sample"
         },
         "type": "linear"
        },
        "xaxis4": {
         "anchor": "y4",
         "autorange": true,
         "domain": [
          0.55,
          1
         ],
         "range": [
          0,
          69
         ],
         "title": {
          "text": "Sample"
         },
         "type": "linear"
        },
        "yaxis": {
         "anchor": "x",
         "autorange": true,
         "domain": [
          0.625,
          1
         ],
         "range": [
          50.824289586975546,
          107.15639181839126
         ],
         "showgrid": false,
         "showline": true,
         "type": "linear"
        },
        "yaxis2": {
         "anchor": "x2",
         "autorange": true,
         "domain": [
          0.625,
          1
         ],
         "range": [
          60.31659080279923,
          195.8257151622574
         ],
         "type": "linear"
        },
        "yaxis3": {
         "anchor": "x3",
         "autorange": true,
         "domain": [
          0,
          0.375
         ],
         "range": [
          546.0069444444445,
          1188.3680555555557
         ],
         "type": "linear"
        },
        "yaxis4": {
         "anchor": "x4",
         "autorange": true,
         "domain": [
          0,
          0.375
         ],
         "range": [
          70.26327110835393,
          258.44144693902075
         ],
         "type": "linear"
        }
       }
      }
     },
     "metadata": {},
     "output_type": "display_data"
    }
   ],
   "source": [
    "\"\"\"\n",
    "An HRV plot displays heart rate variability metrics over time. \n",
    "It helps assess cardiovascular health, stress levels, and autonomic nervous system activity.\"\n",
    "\"\"\"\n",
    "\n",
    "fig = make_subplots(rows=2, cols=2, subplot_titles=(\"HR_mean\", \"medianNN\", \"SDNN\", \"RMSSD\"))\n",
    "\n",
    "trace1 = go.Scatter(x=balanced_df.index[:70], y=balanced_df['HR_mean'][:70], mode='lines', name='HR_mean')\n",
    "trace2 = go.Scatter(x=balanced_df.index[:70], y=balanced_df['medianNN'][:70], mode='lines', name='medianNN')\n",
    "trace3 = go.Scatter(x=balanced_df.index[:70], y=balanced_df['SDNN'][:70], mode='lines', name='SDNN')\n",
    "trace4 = go.Scatter(x=balanced_df.index[:70], y=balanced_df['RMSSD'][:70], mode='lines', name='RMSSD')\n",
    "\n",
    "fig.add_trace(trace1, row=1, col=1)\n",
    "fig.add_trace(trace2, row=2, col=1)\n",
    "fig.add_trace(trace3, row=1, col=2)\n",
    "fig.add_trace(trace4, row=2, col=2)\n",
    "\n",
    "fig.update_xaxes(title_text=\"Sample\", row=1, col=1)\n",
    "fig.update_xaxes(title_text=\"Sample\", row=2, col=1)\n",
    "fig.update_xaxes(title_text=\"Sample\", row=1, col=2)\n",
    "fig.update_xaxes(title_text=\"Sample\", row=2, col=2)\n",
    "\n",
    "# Customize the layout with a black background\n",
    "fig.update_layout(\n",
    "    title=\"Heart Rate Analysis\",\n",
    "    paper_bgcolor='black',  # Set background color to black\n",
    "    plot_bgcolor='black',   # Set plot background color to black\n",
    "    font=dict(color='white'),  # Set font color to white\n",
    "    showlegend=True,\n",
    "    xaxis=dict(showline=True, showgrid=False),\n",
    "    yaxis=dict(showline=True, showgrid=False),\n",
    ")\n",
    "\n",
    "fig.update_annotations(font=dict(color='white'))\n",
    "\n",
    "fig.update_layout(width=900, height=600)\n",
    "fig.show()\n"
   ]
  },
  {
   "cell_type": "code",
   "execution_count": 10,
   "id": "757d0618-1762-4609-91b3-7c6cc36e3f9e",
   "metadata": {},
   "outputs": [],
   "source": [
    "feats = ['HR_mean', 'HR_std', 'meanNN', 'SDNN', 'medianNN', 'meanSD',\n",
    "       'SDSD', 'RMSSD', 'pNN20', 'pNN50', 'TINN']\n",
    "label_dict = {'non-stress': 0, 'stress': 1}\n",
    "int_to_label = {0: 'non-stress', 1: 'stress'}\n"
   ]
  },
  {
   "cell_type": "code",
   "execution_count": 11,
   "id": "e102f867-d125-454d-b83d-6b365eaca085",
   "metadata": {},
   "outputs": [],
   "source": [
    "def select_features_and_return_balanced_df(balanced_df, number_features=11):\n",
    "    X = balanced_df.drop('label', axis=1)\n",
    "    y = balanced_df['label']\n",
    "    \n",
    "    scaler = MinMaxScaler()\n",
    "    X_scaled = scaler.fit_transform(X)\n",
    "    \n",
    "    best_features = SelectKBest(score_func=chi2, k=number_features)\n",
    "    \n",
    "    best_features.fit(X_scaled, y)\n",
    "    \n",
    "    selected_feature_indices = best_features.get_support(indices=True)\n",
    "    \n",
    "    selected_features = X.columns[selected_feature_indices]\n",
    "    \n",
    "    print(f\"Number of selected features: {len(selected_features)}\")\n",
    "    print(f\"Selected features: {list(selected_features)}\")\n",
    "    \n",
    "    X_selected = best_features.transform(X_scaled)\n",
    "    \n",
    "    selected_df = pd.DataFrame(data=X_selected, columns=selected_features)\n",
    "    selected_df['label'] = y\n",
    "    \n",
    "    return selected_df"
   ]
  },
  {
   "cell_type": "code",
   "execution_count": 12,
   "id": "1b921688-f581-447e-9a8f-2d69889a489e",
   "metadata": {},
   "outputs": [
    {
     "name": "stdout",
     "output_type": "stream",
     "text": [
      "Number of selected features: 11\n",
      "Selected features: ['HR_mean', 'HR_std', 'meanNN', 'medianNN', 'meanSD', 'RMSSD', 'pNN20', 'pNN50', 'SD1', 'SD2', 'pA']\n"
     ]
    }
   ],
   "source": [
    "best_selected_df = select_features_and_return_balanced_df(balanced_df , number_features=11)"
   ]
  },
  {
   "cell_type": "code",
   "execution_count": 13,
   "id": "a0851f6d-967b-4dd8-b6f6-2ccca3faa123",
   "metadata": {},
   "outputs": [
    {
     "data": {
      "text/html": [
       "<div>\n",
       "<style scoped>\n",
       "    .dataframe tbody tr th:only-of-type {\n",
       "        vertical-align: middle;\n",
       "    }\n",
       "\n",
       "    .dataframe tbody tr th {\n",
       "        vertical-align: top;\n",
       "    }\n",
       "\n",
       "    .dataframe thead th {\n",
       "        text-align: right;\n",
       "    }\n",
       "</style>\n",
       "<table border=\"1\" class=\"dataframe\">\n",
       "  <thead>\n",
       "    <tr style=\"text-align: right;\">\n",
       "      <th></th>\n",
       "      <th>HR_mean</th>\n",
       "      <th>HR_std</th>\n",
       "      <th>meanNN</th>\n",
       "      <th>medianNN</th>\n",
       "      <th>meanSD</th>\n",
       "      <th>RMSSD</th>\n",
       "      <th>pNN20</th>\n",
       "      <th>pNN50</th>\n",
       "      <th>SD1</th>\n",
       "      <th>SD2</th>\n",
       "      <th>pA</th>\n",
       "      <th>label</th>\n",
       "    </tr>\n",
       "  </thead>\n",
       "  <tbody>\n",
       "    <tr>\n",
       "      <th>0</th>\n",
       "      <td>0.34068</td>\n",
       "      <td>0.680308</td>\n",
       "      <td>0.478054</td>\n",
       "      <td>0.531915</td>\n",
       "      <td>0.502317</td>\n",
       "      <td>0.611273</td>\n",
       "      <td>0.536</td>\n",
       "      <td>0.553191</td>\n",
       "      <td>0.610237</td>\n",
       "      <td>0.415737</td>\n",
       "      <td>0.273026</td>\n",
       "      <td>1</td>\n",
       "    </tr>\n",
       "  </tbody>\n",
       "</table>\n",
       "</div>"
      ],
      "text/plain": [
       "   HR_mean    HR_std    meanNN  medianNN    meanSD     RMSSD  pNN20     pNN50  \\\n",
       "0  0.34068  0.680308  0.478054  0.531915  0.502317  0.611273  0.536  0.553191   \n",
       "\n",
       "        SD1       SD2        pA  label  \n",
       "0  0.610237  0.415737  0.273026      1  "
      ]
     },
     "execution_count": 13,
     "metadata": {},
     "output_type": "execute_result"
    }
   ],
   "source": [
    "best_selected_df.head(1)"
   ]
  },
  {
   "cell_type": "code",
   "execution_count": 14,
   "id": "4ecc07b7-cee1-46bb-9fd2-8dbfb9fcec39",
   "metadata": {},
   "outputs": [],
   "source": [
    "train , val =  train_test_split(best_selected_df, test_size=0.3)\n"
   ]
  },
  {
   "cell_type": "code",
   "execution_count": 15,
   "id": "ca7cba1a-caaf-4b7a-b9f8-17460058a1cd",
   "metadata": {},
   "outputs": [
    {
     "data": {
      "application/vnd.plotly.v1+json": {
       "config": {
        "plotlyServerURL": "https://plot.ly"
       },
       "data": [
        {
         "domain": {
          "x": [
           0,
           0.45
          ],
          "y": [
           0,
           1
          ]
         },
         "hole": 0.5,
         "hoverinfo": "label+value",
         "labels": [
          "Stress",
          "Non-Stress"
         ],
         "marker": {
          "colors": [
           "red",
           "royalblue",
           "green",
           "yellow",
           "pink",
           "grey"
          ]
         },
         "name": "HR_mean",
         "textfont": {
          "size": 15
         },
         "type": "pie",
         "values": [
          173,
          152
         ]
        },
        {
         "domain": {
          "x": [
           0.55,
           1
          ],
          "y": [
           0,
           1
          ]
         },
         "hole": 0.5,
         "hoverinfo": "label+value",
         "labels": [
          "Stress",
          "Non-Stress"
         ],
         "marker": {
          "colors": [
           "red",
           "royalblue",
           "green",
           "yellow",
           "pink",
           "grey"
          ]
         },
         "name": "Training",
         "textfont": {
          "size": 15
         },
         "type": "pie",
         "values": [
          389,
          368
         ]
        }
       ],
       "layout": {
        "annotations": [
         {
          "font": {
           "size": 15
          },
          "showarrow": false,
          "text": "Stress Condition ",
          "x": 0.5,
          "xanchor": "center",
          "xref": "paper",
          "y": 0.5,
          "yanchor": "bottom",
          "yref": "paper"
         },
         {
          "font": {
           "size": 15
          },
          "showarrow": false,
          "text": "Stress Condition ",
          "x": 0.5,
          "xanchor": "center",
          "xref": "paper",
          "y": 0.5,
          "yanchor": "bottom",
          "yref": "paper"
         }
        ],
        "autosize": true,
        "font": {
         "color": "white"
        },
        "paper_bgcolor": "white",
        "plot_bgcolor": "black",
        "showlegend": false,
        "template": {
         "data": {
          "bar": [
           {
            "error_x": {
             "color": "#2a3f5f"
            },
            "error_y": {
             "color": "#2a3f5f"
            },
            "marker": {
             "line": {
              "color": "#E5ECF6",
              "width": 0.5
             },
             "pattern": {
              "fillmode": "overlay",
              "size": 10,
              "solidity": 0.2
             }
            },
            "type": "bar"
           }
          ],
          "barpolar": [
           {
            "marker": {
             "line": {
              "color": "#E5ECF6",
              "width": 0.5
             },
             "pattern": {
              "fillmode": "overlay",
              "size": 10,
              "solidity": 0.2
             }
            },
            "type": "barpolar"
           }
          ],
          "carpet": [
           {
            "aaxis": {
             "endlinecolor": "#2a3f5f",
             "gridcolor": "white",
             "linecolor": "white",
             "minorgridcolor": "white",
             "startlinecolor": "#2a3f5f"
            },
            "baxis": {
             "endlinecolor": "#2a3f5f",
             "gridcolor": "white",
             "linecolor": "white",
             "minorgridcolor": "white",
             "startlinecolor": "#2a3f5f"
            },
            "type": "carpet"
           }
          ],
          "choropleth": [
           {
            "colorbar": {
             "outlinewidth": 0,
             "ticks": ""
            },
            "type": "choropleth"
           }
          ],
          "contour": [
           {
            "colorbar": {
             "outlinewidth": 0,
             "ticks": ""
            },
            "colorscale": [
             [
              0,
              "#0d0887"
             ],
             [
              0.1111111111111111,
              "#46039f"
             ],
             [
              0.2222222222222222,
              "#7201a8"
             ],
             [
              0.3333333333333333,
              "#9c179e"
             ],
             [
              0.4444444444444444,
              "#bd3786"
             ],
             [
              0.5555555555555556,
              "#d8576b"
             ],
             [
              0.6666666666666666,
              "#ed7953"
             ],
             [
              0.7777777777777778,
              "#fb9f3a"
             ],
             [
              0.8888888888888888,
              "#fdca26"
             ],
             [
              1,
              "#f0f921"
             ]
            ],
            "type": "contour"
           }
          ],
          "contourcarpet": [
           {
            "colorbar": {
             "outlinewidth": 0,
             "ticks": ""
            },
            "type": "contourcarpet"
           }
          ],
          "heatmap": [
           {
            "colorbar": {
             "outlinewidth": 0,
             "ticks": ""
            },
            "colorscale": [
             [
              0,
              "#0d0887"
             ],
             [
              0.1111111111111111,
              "#46039f"
             ],
             [
              0.2222222222222222,
              "#7201a8"
             ],
             [
              0.3333333333333333,
              "#9c179e"
             ],
             [
              0.4444444444444444,
              "#bd3786"
             ],
             [
              0.5555555555555556,
              "#d8576b"
             ],
             [
              0.6666666666666666,
              "#ed7953"
             ],
             [
              0.7777777777777778,
              "#fb9f3a"
             ],
             [
              0.8888888888888888,
              "#fdca26"
             ],
             [
              1,
              "#f0f921"
             ]
            ],
            "type": "heatmap"
           }
          ],
          "heatmapgl": [
           {
            "colorbar": {
             "outlinewidth": 0,
             "ticks": ""
            },
            "colorscale": [
             [
              0,
              "#0d0887"
             ],
             [
              0.1111111111111111,
              "#46039f"
             ],
             [
              0.2222222222222222,
              "#7201a8"
             ],
             [
              0.3333333333333333,
              "#9c179e"
             ],
             [
              0.4444444444444444,
              "#bd3786"
             ],
             [
              0.5555555555555556,
              "#d8576b"
             ],
             [
              0.6666666666666666,
              "#ed7953"
             ],
             [
              0.7777777777777778,
              "#fb9f3a"
             ],
             [
              0.8888888888888888,
              "#fdca26"
             ],
             [
              1,
              "#f0f921"
             ]
            ],
            "type": "heatmapgl"
           }
          ],
          "histogram": [
           {
            "marker": {
             "pattern": {
              "fillmode": "overlay",
              "size": 10,
              "solidity": 0.2
             }
            },
            "type": "histogram"
           }
          ],
          "histogram2d": [
           {
            "colorbar": {
             "outlinewidth": 0,
             "ticks": ""
            },
            "colorscale": [
             [
              0,
              "#0d0887"
             ],
             [
              0.1111111111111111,
              "#46039f"
             ],
             [
              0.2222222222222222,
              "#7201a8"
             ],
             [
              0.3333333333333333,
              "#9c179e"
             ],
             [
              0.4444444444444444,
              "#bd3786"
             ],
             [
              0.5555555555555556,
              "#d8576b"
             ],
             [
              0.6666666666666666,
              "#ed7953"
             ],
             [
              0.7777777777777778,
              "#fb9f3a"
             ],
             [
              0.8888888888888888,
              "#fdca26"
             ],
             [
              1,
              "#f0f921"
             ]
            ],
            "type": "histogram2d"
           }
          ],
          "histogram2dcontour": [
           {
            "colorbar": {
             "outlinewidth": 0,
             "ticks": ""
            },
            "colorscale": [
             [
              0,
              "#0d0887"
             ],
             [
              0.1111111111111111,
              "#46039f"
             ],
             [
              0.2222222222222222,
              "#7201a8"
             ],
             [
              0.3333333333333333,
              "#9c179e"
             ],
             [
              0.4444444444444444,
              "#bd3786"
             ],
             [
              0.5555555555555556,
              "#d8576b"
             ],
             [
              0.6666666666666666,
              "#ed7953"
             ],
             [
              0.7777777777777778,
              "#fb9f3a"
             ],
             [
              0.8888888888888888,
              "#fdca26"
             ],
             [
              1,
              "#f0f921"
             ]
            ],
            "type": "histogram2dcontour"
           }
          ],
          "mesh3d": [
           {
            "colorbar": {
             "outlinewidth": 0,
             "ticks": ""
            },
            "type": "mesh3d"
           }
          ],
          "parcoords": [
           {
            "line": {
             "colorbar": {
              "outlinewidth": 0,
              "ticks": ""
             }
            },
            "type": "parcoords"
           }
          ],
          "pie": [
           {
            "automargin": true,
            "type": "pie"
           }
          ],
          "scatter": [
           {
            "fillpattern": {
             "fillmode": "overlay",
             "size": 10,
             "solidity": 0.2
            },
            "type": "scatter"
           }
          ],
          "scatter3d": [
           {
            "line": {
             "colorbar": {
              "outlinewidth": 0,
              "ticks": ""
             }
            },
            "marker": {
             "colorbar": {
              "outlinewidth": 0,
              "ticks": ""
             }
            },
            "type": "scatter3d"
           }
          ],
          "scattercarpet": [
           {
            "marker": {
             "colorbar": {
              "outlinewidth": 0,
              "ticks": ""
             }
            },
            "type": "scattercarpet"
           }
          ],
          "scattergeo": [
           {
            "marker": {
             "colorbar": {
              "outlinewidth": 0,
              "ticks": ""
             }
            },
            "type": "scattergeo"
           }
          ],
          "scattergl": [
           {
            "marker": {
             "colorbar": {
              "outlinewidth": 0,
              "ticks": ""
             }
            },
            "type": "scattergl"
           }
          ],
          "scattermapbox": [
           {
            "marker": {
             "colorbar": {
              "outlinewidth": 0,
              "ticks": ""
             }
            },
            "type": "scattermapbox"
           }
          ],
          "scatterpolar": [
           {
            "marker": {
             "colorbar": {
              "outlinewidth": 0,
              "ticks": ""
             }
            },
            "type": "scatterpolar"
           }
          ],
          "scatterpolargl": [
           {
            "marker": {
             "colorbar": {
              "outlinewidth": 0,
              "ticks": ""
             }
            },
            "type": "scatterpolargl"
           }
          ],
          "scatterternary": [
           {
            "marker": {
             "colorbar": {
              "outlinewidth": 0,
              "ticks": ""
             }
            },
            "type": "scatterternary"
           }
          ],
          "surface": [
           {
            "colorbar": {
             "outlinewidth": 0,
             "ticks": ""
            },
            "colorscale": [
             [
              0,
              "#0d0887"
             ],
             [
              0.1111111111111111,
              "#46039f"
             ],
             [
              0.2222222222222222,
              "#7201a8"
             ],
             [
              0.3333333333333333,
              "#9c179e"
             ],
             [
              0.4444444444444444,
              "#bd3786"
             ],
             [
              0.5555555555555556,
              "#d8576b"
             ],
             [
              0.6666666666666666,
              "#ed7953"
             ],
             [
              0.7777777777777778,
              "#fb9f3a"
             ],
             [
              0.8888888888888888,
              "#fdca26"
             ],
             [
              1,
              "#f0f921"
             ]
            ],
            "type": "surface"
           }
          ],
          "table": [
           {
            "cells": {
             "fill": {
              "color": "#EBF0F8"
             },
             "line": {
              "color": "white"
             }
            },
            "header": {
             "fill": {
              "color": "#C8D4E3"
             },
             "line": {
              "color": "white"
             }
            },
            "type": "table"
           }
          ]
         },
         "layout": {
          "annotationdefaults": {
           "arrowcolor": "#2a3f5f",
           "arrowhead": 0,
           "arrowwidth": 1
          },
          "autotypenumbers": "strict",
          "coloraxis": {
           "colorbar": {
            "outlinewidth": 0,
            "ticks": ""
           }
          },
          "colorscale": {
           "diverging": [
            [
             0,
             "#8e0152"
            ],
            [
             0.1,
             "#c51b7d"
            ],
            [
             0.2,
             "#de77ae"
            ],
            [
             0.3,
             "#f1b6da"
            ],
            [
             0.4,
             "#fde0ef"
            ],
            [
             0.5,
             "#f7f7f7"
            ],
            [
             0.6,
             "#e6f5d0"
            ],
            [
             0.7,
             "#b8e186"
            ],
            [
             0.8,
             "#7fbc41"
            ],
            [
             0.9,
             "#4d9221"
            ],
            [
             1,
             "#276419"
            ]
           ],
           "sequential": [
            [
             0,
             "#0d0887"
            ],
            [
             0.1111111111111111,
             "#46039f"
            ],
            [
             0.2222222222222222,
             "#7201a8"
            ],
            [
             0.3333333333333333,
             "#9c179e"
            ],
            [
             0.4444444444444444,
             "#bd3786"
            ],
            [
             0.5555555555555556,
             "#d8576b"
            ],
            [
             0.6666666666666666,
             "#ed7953"
            ],
            [
             0.7777777777777778,
             "#fb9f3a"
            ],
            [
             0.8888888888888888,
             "#fdca26"
            ],
            [
             1,
             "#f0f921"
            ]
           ],
           "sequentialminus": [
            [
             0,
             "#0d0887"
            ],
            [
             0.1111111111111111,
             "#46039f"
            ],
            [
             0.2222222222222222,
             "#7201a8"
            ],
            [
             0.3333333333333333,
             "#9c179e"
            ],
            [
             0.4444444444444444,
             "#bd3786"
            ],
            [
             0.5555555555555556,
             "#d8576b"
            ],
            [
             0.6666666666666666,
             "#ed7953"
            ],
            [
             0.7777777777777778,
             "#fb9f3a"
            ],
            [
             0.8888888888888888,
             "#fdca26"
            ],
            [
             1,
             "#f0f921"
            ]
           ]
          },
          "colorway": [
           "#636efa",
           "#EF553B",
           "#00cc96",
           "#ab63fa",
           "#FFA15A",
           "#19d3f3",
           "#FF6692",
           "#B6E880",
           "#FF97FF",
           "#FECB52"
          ],
          "font": {
           "color": "#2a3f5f"
          },
          "geo": {
           "bgcolor": "white",
           "lakecolor": "white",
           "landcolor": "#E5ECF6",
           "showlakes": true,
           "showland": true,
           "subunitcolor": "white"
          },
          "hoverlabel": {
           "align": "left"
          },
          "hovermode": "closest",
          "mapbox": {
           "style": "light"
          },
          "paper_bgcolor": "white",
          "plot_bgcolor": "#E5ECF6",
          "polar": {
           "angularaxis": {
            "gridcolor": "white",
            "linecolor": "white",
            "ticks": ""
           },
           "bgcolor": "#E5ECF6",
           "radialaxis": {
            "gridcolor": "white",
            "linecolor": "white",
            "ticks": ""
           }
          },
          "scene": {
           "xaxis": {
            "backgroundcolor": "#E5ECF6",
            "gridcolor": "white",
            "gridwidth": 2,
            "linecolor": "white",
            "showbackground": true,
            "ticks": "",
            "zerolinecolor": "white"
           },
           "yaxis": {
            "backgroundcolor": "#E5ECF6",
            "gridcolor": "white",
            "gridwidth": 2,
            "linecolor": "white",
            "showbackground": true,
            "ticks": "",
            "zerolinecolor": "white"
           },
           "zaxis": {
            "backgroundcolor": "#E5ECF6",
            "gridcolor": "white",
            "gridwidth": 2,
            "linecolor": "white",
            "showbackground": true,
            "ticks": "",
            "zerolinecolor": "white"
           }
          },
          "shapedefaults": {
           "line": {
            "color": "#2a3f5f"
           }
          },
          "ternary": {
           "aaxis": {
            "gridcolor": "white",
            "linecolor": "white",
            "ticks": ""
           },
           "baxis": {
            "gridcolor": "white",
            "linecolor": "white",
            "ticks": ""
           },
           "bgcolor": "#E5ECF6",
           "caxis": {
            "gridcolor": "white",
            "linecolor": "white",
            "ticks": ""
           }
          },
          "title": {
           "x": 0.05
          },
          "xaxis": {
           "automargin": true,
           "gridcolor": "white",
           "linecolor": "white",
           "ticks": "",
           "title": {
            "standoff": 15
           },
           "zerolinecolor": "white",
           "zerolinewidth": 2
          },
          "yaxis": {
           "automargin": true,
           "gridcolor": "white",
           "linecolor": "white",
           "ticks": "",
           "title": {
            "standoff": 15
           },
           "zerolinecolor": "white",
           "zerolinewidth": 2
          }
         }
        },
        "title": {
         "text": "Labels Counts Analysis"
        },
        "xaxis": {
         "showgrid": false,
         "showline": true
        },
        "yaxis": {
         "showgrid": false,
         "showline": true
        }
       }
      }
     },
     "metadata": {},
     "output_type": "display_data"
    }
   ],
   "source": [
    "\n",
    "\n",
    "colors = ['red', 'royalblue','green','yellow','pink','grey']\n",
    "\n",
    "values_train = train['label'].value_counts()\n",
    "values_test = val['label'].value_counts()\n",
    "\n",
    "labels = ['Stress', 'Non-Stress']\n",
    "\n",
    "fig = make_subplots(rows=1, cols=2, subplot_titles=['Stress/non-Stress Label Counts (val)', 'Stress/non-Stress Label Counts (train)'],\n",
    "                    specs=[[{'type':'pie'}, {'type':'pie'}]])\n",
    "\n",
    "fig_val = go.Figure(data=[go.Pie(labels=labels, values=values_test, hole=.5, marker=dict(colors=colors), name='HR_mean')])\n",
    "fig_val.update_traces(hoverinfo='label+value', textfont_size=15)\n",
    "\n",
    "fig_train = go.Figure(data=[go.Pie(labels=labels, values=values_train, hole=.5, marker=dict(colors=colors), name=\"Training\")])\n",
    "fig_train.update_traces(hoverinfo='label+value', textfont_size=15)\n",
    "\n",
    "fig.add_trace(fig_val.data[0], row=1, col=1)\n",
    "fig.add_trace(fig_train.data[0], row=1, col=2)\n",
    "\n",
    "# Update the layout\n",
    "fig.update_layout(\n",
    "    title=\"Labels Counts Analysis\",\n",
    "    paper_bgcolor='white',  \n",
    "    plot_bgcolor='black',  \n",
    "    font=dict(color='white'),  \n",
    "    showlegend=False,  \n",
    "    xaxis=dict(showline=True, showgrid=False),\n",
    "    yaxis=dict(showline=True, showgrid=False),\n",
    ")\n",
    "\n",
    "# Update subplot titles\n",
    "fig.update_annotations(\n",
    "    dict(text='Stress Condition', font_size=15, showarrow=False),\n",
    "    selector=dict(row=1, col=1)\n",
    ")\n",
    "fig.update_annotations(\n",
    "    dict(text='', font_size=15, showarrow=False),  \n",
    "    selector=dict(row=1, col=2)\n",
    ")\n",
    "\n",
    "fig.update_layout(annotations=[dict(text='Stress Condition ', \n",
    "                                    x=0.50, y=0.5, font_size=15, \n",
    "                                    showarrow=False)])\n",
    "fig.show()\n"
   ]
  },
  {
   "cell_type": "code",
   "execution_count": 16,
   "id": "394573a1-4432-44e6-8f74-52ba7f1243ca",
   "metadata": {},
   "outputs": [],
   "source": [
    "# def one_hot_encode(x, n_classes):\n",
    "#     \"\"\"\n",
    "#     One hot encode a list of sample labels. Return a one-hot encoded vector for each label.\n",
    "#     : x: List of sample Labels\n",
    "#     : return: Numpy array of one-hot encoded labels\n",
    "#      \"\"\"\n",
    "#     return np.eye(n_classes)[x]\n",
    "\n",
    "\n",
    "# n_classes = 2\n",
    "# Encoder_val= one_hot_encode(val[\"label\"] , n_classes)\n",
    "# Encoder_train = one_hot_encode(train[\"label\"] , n_classes)\n",
    "# train[\"label\"]=list(Encoder_train)\n",
    "# val[\"label\"]=list(Encoder_val)"
   ]
  },
  {
   "cell_type": "code",
   "execution_count": 17,
   "id": "5a26a875-86b0-404d-8f58-17b11412f1e4",
   "metadata": {},
   "outputs": [],
   "source": [
    "class WESAD_DATASET(Dataset):\n",
    "    def __init__(self, data: pd.DataFrame, transformer=None):\n",
    "        super(WESAD_DATASET, self).__init__()\n",
    "        self.transformer = transformer\n",
    "        self.data = data\n",
    "        self.y = torch.tensor(data[\"label\"].values).float()\n",
    "        \n",
    "        if 'subject' in self.data.columns:\n",
    "            self.data.drop(['label', 'subject'], axis=1, inplace=True)\n",
    "        else:\n",
    "            self.data.drop(['label'], axis=1, inplace=True)\n",
    "            \n",
    "        if self.transformer is not None:\n",
    "            self.data = self.normalize(self.data)\n",
    "        \n",
    "        \n",
    "    def __len__(self):\n",
    "        return len(self.data)\n",
    "    \n",
    "    def __getitem__(self, idx):\n",
    "        x = self.data.iloc[idx].values\n",
    "        y = self.y[idx]\n",
    "    \n",
    "        return torch.tensor(x), y\n",
    "\n",
    "    def normalize(self,data):\n",
    "        normalized_balanced_df=(data-data.min())/(data.max()-data.min())\n",
    "        return normalized_balanced_df"
   ]
  },
  {
   "cell_type": "code",
   "execution_count": 18,
   "id": "881d293a-78ac-4d7a-9f8c-f8826228eebe",
   "metadata": {},
   "outputs": [],
   "source": [
    "feats = ['subject','HR_mean', 'HR_std', 'meanNN', 'SDNN', 'medianNN', 'meanSD',\n",
    "       'SDSD', 'RMSSD', 'pNN20', 'pNN50', 'TINN','label']\n",
    "best_features = best_selected_df.columns\n",
    "label_dict = {'no-stress': 0, 'stress': 1}\n",
    "int_to_label = {0: 'no-stress', 1: 'stress'}\n"
   ]
  },
  {
   "cell_type": "code",
   "execution_count": 19,
   "id": "4782a0f8-e439-4712-a3ad-0abf0df3f373",
   "metadata": {},
   "outputs": [],
   "source": [
    "frequency_domain_features = [\n",
    "    'subject','LF', 'HF', 'ULF', 'VLF',\n",
    "    'LFHF', 'total_power', 'lfp', 'hfp', 'label'\n",
    "]\n",
    "\n",
    "spatial_domain_features = [\n",
    "    'subject','HR_mean', 'HR_std', 'meanNN', 'SDNN', 'medianNN', 'meanSD',\n",
    "    'SDSD', 'RMSSD', 'pNN20', 'pNN50', 'TINN', 'label'\n",
    "]\n",
    "\n",
    "non_linear_hrv_measures = [\n",
    "    'subject','SD1', 'SD2', 'pA', 'pQ', 'ApEn',\n",
    "    'shanEn', 'D2', 'label'\n",
    "]\n"
   ]
  },
  {
   "cell_type": "code",
   "execution_count": 22,
   "id": "47c8d0fa-1f15-436a-b331-0bcc74c9cd0c",
   "metadata": {},
   "outputs": [
    {
     "name": "stdout",
     "output_type": "stream",
     "text": [
      "Requirement already satisfied: ptflops in /home/black/GitLab/Nano-AutoGrad /dev/lib/python3.11/site-packages (0.7)\n",
      "Requirement already satisfied: torch in /home/black/GitLab/Nano-AutoGrad /dev/lib/python3.11/site-packages (from ptflops) (2.0.1+cpu)\n",
      "Requirement already satisfied: filelock in /home/black/GitLab/Nano-AutoGrad /dev/lib/python3.11/site-packages (from torch->ptflops) (3.12.2)\n",
      "Requirement already satisfied: typing-extensions in /home/black/GitLab/Nano-AutoGrad /dev/lib/python3.11/site-packages (from torch->ptflops) (4.6.3)\n",
      "Requirement already satisfied: sympy in /home/black/GitLab/Nano-AutoGrad /dev/lib/python3.11/site-packages (from torch->ptflops) (1.11.1)\n",
      "Requirement already satisfied: networkx in /home/black/GitLab/Nano-AutoGrad /dev/lib/python3.11/site-packages (from torch->ptflops) (3.1)\n",
      "Requirement already satisfied: jinja2 in /home/black/GitLab/Nano-AutoGrad /dev/lib/python3.11/site-packages (from torch->ptflops) (3.1.2)\n",
      "Requirement already satisfied: MarkupSafe>=2.0 in /home/black/GitLab/Nano-AutoGrad /dev/lib/python3.11/site-packages (from jinja2->torch->ptflops) (2.1.3)\n",
      "Requirement already satisfied: mpmath>=0.19 in /home/black/GitLab/Nano-AutoGrad /dev/lib/python3.11/site-packages (from sympy->torch->ptflops) (1.2.1)\n",
      "\n",
      "\u001b[1m[\u001b[0m\u001b[34;49mnotice\u001b[0m\u001b[1;39;49m]\u001b[0m\u001b[39;49m A new release of pip available: \u001b[0m\u001b[31;49m22.3.1\u001b[0m\u001b[39;49m -> \u001b[0m\u001b[32;49m23.2.1\u001b[0m\n",
      "\u001b[1m[\u001b[0m\u001b[34;49mnotice\u001b[0m\u001b[1;39;49m]\u001b[0m\u001b[39;49m To update, run: \u001b[0m\u001b[32;49mpip install --upgrade pip\u001b[0m\n"
     ]
    }
   ],
   "source": [
    "!pip install ptflops"
   ]
  },
  {
   "cell_type": "code",
   "execution_count": 10,
   "id": "7f9c816b-8895-4c41-943f-300ad1672475",
   "metadata": {},
   "outputs": [],
   "source": [
    "class LinearStress(nn.Module): \n",
    "    def __init__(self,args):\n",
    "        super(LinearStress, self).__init__()\n",
    "        self.in_features = args[\"in_features\"]\n",
    "        self.out_features = args[\"in_features\"]\n",
    "        self.out_classes = args[\"out_classes\"]\n",
    "        self.fc = nn.Sequential(\n",
    "                        nn.Linear(self.in_features,self.out_features),\n",
    "                        #nn.Dropout(0.5),\n",
    "                        nn.ReLU(),\n",
    "                        nn.Linear(self.out_features, self.out_classes),\n",
    "                        #nn.Dropout(0.5),\n",
    "                        nn.LogSoftmax(dim=1))\n",
    "        \n",
    "    def forward(self, x):\n",
    "        return self.fc(x)    \n",
    "\n"
   ]
  },
  {
   "cell_type": "code",
   "execution_count": 11,
   "id": "7b3f2813-9357-4bba-af17-7b32e0d9d586",
   "metadata": {},
   "outputs": [],
   "source": [
    "model_args = {\n",
    "        \"in_features\": 11,\n",
    "        \"out_features\": 128,\n",
    "        \"out_classes\": 2,\n",
    "    }\n",
    "model = LinearStress(model_args)\n"
   ]
  },
  {
   "cell_type": "code",
   "execution_count": 19,
   "id": "fcd4bb94-dd53-4887-a4bf-016babd191ae",
   "metadata": {},
   "outputs": [
    {
     "data": {
      "text/plain": [
       "156"
      ]
     },
     "execution_count": 19,
     "metadata": {},
     "output_type": "execute_result"
    }
   ],
   "source": [
    "total_params = sum(p.numel() for p in model.parameters())\n",
    "total_params"
   ]
  },
  {
   "cell_type": "code",
   "execution_count": 26,
   "id": "ae6162c9-7631-4179-baf7-58e882f0203c",
   "metadata": {},
   "outputs": [
    {
     "name": "stdout",
     "output_type": "stream",
     "text": [
      "Warning: module LogSoftmax is treated as a zero-op.\n",
      "Warning: module LinearStress is treated as a zero-op.\n",
      "LinearStress(\n",
      "  156, 100.000% Params, 167.0 Mac, 100.000% MACs, \n",
      "  (fc): Sequential(\n",
      "    156, 100.000% Params, 167.0 Mac, 100.000% MACs, \n",
      "    (0): Linear(132, 84.615% Params, 132.0 Mac, 79.042% MACs, in_features=11, out_features=11, bias=True)\n",
      "    (1): ReLU(0, 0.000% Params, 11.0 Mac, 6.587% MACs, )\n",
      "    (2): Linear(24, 15.385% Params, 24.0 Mac, 14.371% MACs, in_features=11, out_features=2, bias=True)\n",
      "    (3): LogSoftmax(0, 0.000% Params, 0.0 Mac, 0.000% MACs, dim=1)\n",
      "  )\n",
      ")\n",
      "Computational complexity:       167.0 Mac\n",
      "Number of parameters:           156     \n"
     ]
    }
   ],
   "source": [
    "import torchvision.models as models\n",
    "import torch\n",
    "from ptflops import get_model_complexity_info\n",
    "\n",
    "# if torch.cuda.is_available() and self.use_cuda:\n",
    "#             self.device = 'cuda:0'\n",
    "macs, params = get_model_complexity_info(model, (1, 11), as_strings=True,\n",
    "                                       print_per_layer_stat=True, verbose=True)\n",
    "print('{:<30}  {:<8}'.format('Computational complexity: ', macs))\n",
    "print('{:<30}  {:<8}'.format('Number of parameters: ', params))"
   ]
  },
  {
   "cell_type": "code",
   "execution_count": 20,
   "id": "cb65a491-35c9-4e9d-9950-01b76ae7c11e",
   "metadata": {},
   "outputs": [
    {
     "name": "stdout",
     "output_type": "stream",
     "text": [
      "param :121\n",
      "param :11\n",
      "param :22\n",
      "param :2\n"
     ]
    }
   ],
   "source": [
    "for param in model.parameters():\n",
    "    print(f\"param :{(param.numel())}\")"
   ]
  },
  {
   "cell_type": "code",
   "execution_count": 21,
   "id": "d1c109db-194a-4745-b4aa-926d48c27d29",
   "metadata": {},
   "outputs": [],
   "source": [
    "def get_data_loaders(balanced_df, features,train_batch_size=1, test_batch_size=1):\n",
    "    #balanced_df = pd.read_csv('data/m14_merged.csv', index_col=0)[feats]\n",
    "\n",
    "    # train_balanced_df = balanced_df[ balanced_df['subject'] != subject_id].reset_index(drop=True)\n",
    "    # test_balanced_df = balanced_df[ balanced_df['subject'] == subject_id].reset_index(drop=True)\n",
    "    train_balanced_df , val_balanced_df =  train_test_split(balanced_df[features], test_size=0.3)\n",
    "\n",
    "    train_dset = WESAD_DATASET(train_balanced_df,transformer=True)\n",
    "    test_dset = WESAD_DATASET(val_balanced_df,transformer=True)\n",
    "\n",
    "    train_loader = torch.utils.data.DataLoader(train_dset, batch_size=train_batch_size, shuffle=True)\n",
    "    test_loader = torch.utils.data.DataLoader(test_dset, batch_size=test_batch_size,shuffle=False)\n",
    "    \n",
    "    return train_loader, test_loader"
   ]
  },
  {
   "cell_type": "code",
   "execution_count": 22,
   "id": "ca2af893-129e-4960-8bcf-23b4cdea284d",
   "metadata": {},
   "outputs": [
    {
     "name": "stdout",
     "output_type": "stream",
     "text": [
      "torch.Size([1, 11]) torch.Size([1])\n"
     ]
    }
   ],
   "source": [
    "train_loader, _=get_data_loaders(best_selected_df,best_features)\n",
    "for batch in train_loader:\n",
    "    feat , label = batch \n",
    "    print(feat.shape, label.shape)\n",
    "    break\n",
    "    "
   ]
  },
  {
   "cell_type": "code",
   "execution_count": 23,
   "id": "2f2c6543-5020-4aac-9b73-907cd8b7b7a5",
   "metadata": {
    "scrolled": true
   },
   "outputs": [
    {
     "name": "stdout",
     "output_type": "stream",
     "text": [
      "seq_len : 13 \n",
      " embed_dim : 1082\n"
     ]
    }
   ],
   "source": [
    "seq_len = len(feats) \n",
    "embed_dim = balanced_df.shape[0] \n",
    "print(f\"seq_len : {seq_len} \\n embed_dim : {embed_dim}\")"
   ]
  },
  {
   "cell_type": "code",
   "execution_count": 24,
   "id": "9f385c32-ef06-4f0d-9f57-e5a2415c34cc",
   "metadata": {},
   "outputs": [],
   "source": [
    "def save_model(model, model_path):\n",
    "    \"\"\"Save model.\"\"\"\n",
    "    torch.save(model.state_dict(), model_path)\n",
    "\n",
    "\n",
    "def load_model(model, model_path, use_cuda=False):\n",
    "    \"\"\"Load model.\"\"\"\n",
    "    map_location = 'cpu'\n",
    "    if use_cuda and torch.cuda.is_available():\n",
    "        map_location = 'cuda:0'\n",
    "    model.load_state_dict(torch.load(model_path, map_location))\n",
    "    return model"
   ]
  },
  {
   "cell_type": "code",
   "execution_count": 25,
   "id": "817afe1e-29bf-4c84-bbb6-5299f1b4c74a",
   "metadata": {},
   "outputs": [],
   "source": [
    "class Trainer(object):\n",
    "    \"\"\"Trainer.\"\"\"\n",
    "\n",
    "    def __init__(self, **kwargs):\n",
    "        self.n_epochs = kwargs[\"epochs\"]\n",
    "        self.batch_size = kwargs[\"batch_size\"]\n",
    "        self.validate = kwargs[\"validate\"]\n",
    "        self.save_best_dev = kwargs[\"save_best_dev\"]\n",
    "        self.use_cuda = kwargs[\"use_cuda\"]\n",
    "        self.print_every_step = kwargs[\"print_every_step\"]\n",
    "        self.optimizer = kwargs[\"optimizer\"]\n",
    "        self.model_path = kwargs[\"model_path\"]\n",
    "        self.eval_metrics = kwargs[\"eval_metrics\"]\n",
    "        self._best_accuracy = 0.0\n",
    "        self.criterion = nn.CrossEntropyLoss()\n",
    "\n",
    "        self.device = 'cpu'\n",
    "        if torch.cuda.is_available() and self.use_cuda:\n",
    "            self.device = 'cuda:0'\n",
    "\n",
    "    def train(self, network, data_train, dev_data=None):\n",
    "        # transfer model to gpu if available\n",
    "        network = network.to(self.device)\n",
    "\n",
    "        # define batch iterator\n",
    "        train_iter = data_train\n",
    "\n",
    "        \n",
    "        # define Tester over dev data\n",
    "        if self.validate:\n",
    "            default_valid_args = {\n",
    "                \"batch_size\":  self.batch_size,\n",
    "                \"use_cuda\": self.use_cuda}\n",
    "            validator = Tester(**default_valid_args)\n",
    "\n",
    "        start = time.time()\n",
    "        for epoch in range(1, self.n_epochs + 1):\n",
    "            # turn on network training mode\n",
    "            network.train()\n",
    "\n",
    "            # one forward and backward pass\n",
    "            self._train_step(\n",
    "                train_iter, network, start=start,\n",
    "                n_print=self.print_every_step, epoch=epoch)\n",
    "\n",
    "            # validation\n",
    "            if self.validate:\n",
    "                if dev_data is None:\n",
    "                    raise RuntimeError(\n",
    "                        \"self.validate is True in trainer, \"\n",
    "                        \"but dev_data is None.\"\n",
    "                        \" Please provide the validation data.\")\n",
    "                eval_results = validator.test(network, dev_data)\n",
    "\n",
    "                if self.save_best_dev and self.best_eval_result(eval_results):\n",
    "                    save_model(network, self.model_path)\n",
    "                    print(\"Saved better model selected by validation.\")\n",
    "\n",
    "    def _train_step(self, data_iterator, network, **kwargs):\n",
    "        \"\"\"Training process in one epoch.\n",
    "        \"\"\"\n",
    "        step = 0\n",
    "        for batch in data_iterator:\n",
    "            feats, target = batch\n",
    "            feats , target = feats.to(self.device),target.long().to(self.device)\n",
    "            self.optimizer.zero_grad()\n",
    "            logits = network(feats.float())\n",
    "        \n",
    "\n",
    "\n",
    "            loss = self.criterion(logits, target)\n",
    "            loss.backward()\n",
    "            self.optimizer.step()\n",
    "\n",
    "            if kwargs[\"n_print\"] > 0 and step % kwargs[\"n_print\"] == 0:\n",
    "                end = time.time()\n",
    "                diff = timedelta(seconds=round(end - kwargs[\"start\"]))\n",
    "                print_output = \"[epoch: {:>3} step: {:>4}]\" \\\n",
    "                    \" train loss: {:>4.6} time: {}\".format(\n",
    "                        kwargs[\"epoch\"], step, loss.item(), diff)\n",
    "                print(print_output)\n",
    "\n",
    "            step += 1\n",
    "\n",
    "    def best_eval_result(self, eval_results):\n",
    "        \"\"\"Check if the current epoch yields better validation results.\n",
    "\n",
    "        :param eval_results: dict, format {metrics_name: value}\n",
    "        :return: bool, True means current results on dev set is the best.\n",
    "        \"\"\"\n",
    "        assert self.eval_metrics in eval_results, \\\n",
    "            \"Evaluation doesn't contain metrics '{}'.\" \\\n",
    "            .format(self.eval_metrics)\n",
    "\n",
    "        accuracy = eval_results[self.eval_metrics]\n",
    "        if accuracy > self._best_accuracy:\n",
    "            self._best_accuracy = accuracy\n",
    "            return True\n",
    "        else:\n",
    "            return False\n"
   ]
  },
  {
   "cell_type": "code",
   "execution_count": 26,
   "id": "21d53cd2-44b9-43fb-9200-37a380ccb017",
   "metadata": {},
   "outputs": [],
   "source": [
    "class Tester(object):\n",
    "    \"\"\"Tester.\"\"\"\n",
    "\n",
    "    def __init__(self, **kwargs):\n",
    "        self.batch_size = kwargs[\"batch_size\"]\n",
    "        self.use_cuda = kwargs[\"use_cuda\"]\n",
    "        self.device = 'cpu'\n",
    "        if torch.cuda.is_available() and self.use_cuda:\n",
    "            self.device = 'cuda:0'\n",
    "\n",
    "    def test(self, network, dev_data, threshold=0.87):\n",
    "        # transfer model to gpu if available\n",
    "        network = network.to(self.device)\n",
    "\n",
    "        # turn on the testing mode; clean up the history\n",
    "        network.eval()\n",
    "        output_list = []\n",
    "        truth_list = []\n",
    "\n",
    "        # define batch iterator\n",
    "        data_iter = dev_data\n",
    "\n",
    "\n",
    "        # predict\n",
    "        for batch in data_iter:\n",
    "            feats ,  target = batch\n",
    "            feats ,  target = feats.to(self.device),target.long().to(self.device)\n",
    "\n",
    "\n",
    "            with torch.no_grad():\n",
    "                prediction = network(feats.float())\n",
    "\n",
    "            output_list.append(prediction.detach())\n",
    "            truth_list.append(target.detach())\n",
    "\n",
    "        # evaluate\n",
    "        eval_results = self.evaluate(output_list, truth_list, threshold)\n",
    "        print(\"[tester] {}\".format(self.print_eval_results(eval_results)))\n",
    "    \n",
    "        return eval_results\n",
    "\n",
    "    def evaluate(self, predict, truth, threshold=0.33):\n",
    "        \n",
    "        \"\"\"Compute evaluation metrics.\n",
    "\n",
    "        :param predict: list of Tensor\n",
    "        :param truth: list of dict\n",
    "        :param threshold: threshold of positive probability\n",
    "        :return eval_results: dict, format {name: metrics}.\n",
    "        \"\"\"\n",
    "\n",
    "        y_trues, y_preds = [], []\n",
    "        for y_true, logit in zip(truth, predict):\n",
    "            _, y_pred = torch.max(logit, 1)\n",
    "            y_pred = (y_pred > threshold).long().cpu().numpy()\n",
    "            y_true = y_true.cpu().numpy()\n",
    "            y_trues.append(y_true)\n",
    "            y_preds.append(y_pred)\n",
    "        \n",
    "        y_true = np.concatenate(y_trues, axis=0)\n",
    "        y_pred = np.concatenate(y_preds, axis=0)\n",
    "       \n",
    "        \n",
    "        precision = metrics.precision_score(y_true, y_pred,pos_label=1)\n",
    "        accuracy = metrics.accuracy_score(y_true, y_pred)\n",
    "        recall = metrics.recall_score(y_true, y_pred,pos_label=1)\n",
    "        f1 = metrics.f1_score(y_true, y_pred,pos_label=1)\n",
    "\n",
    "        metrics_dict = {\"accuracy\":accuracy, \"precision\": precision, \"recall\": recall, \"f1\": f1}\n",
    "\n",
    "        return metrics_dict \n",
    "\n",
    "\n",
    "\n",
    "    def print_eval_results(self, results):\n",
    "        \"\"\"Override this method to support more print formats.\n",
    "        :param results: dict, (str: float) is (metrics name: value)\n",
    "        \"\"\"\n",
    "        return \", \".join(\n",
    "            [str(key) + \"=\" + \"{:.4f}\".format(value)\n",
    "             for key, value in results.items()])"
   ]
  },
  {
   "cell_type": "code",
   "execution_count": 27,
   "id": "cd43906f-a2a0-4d20-a994-e2810d5cff0e",
   "metadata": {},
   "outputs": [],
   "source": [
    "class Predictor(object):\n",
    "    \"\"\"An interface for predicting outputs based on trained models.\n",
    "    \"\"\"\n",
    "\n",
    "    def __init__(self, batch_size=8, use_cuda=False):\n",
    "        self.batch_size = batch_size\n",
    "        self.use_cuda = use_cuda\n",
    "\n",
    "        self.device = 'cpu'\n",
    "        if torch.cuda.is_available() and self.use_cuda:\n",
    "            self.device = 'cuda:0'\n",
    "\n",
    "    def predict(self, network, data, threshold=0.33):\n",
    "        # transfer model to gpu if available\n",
    "        network = network.to(self.device)\n",
    "\n",
    "        # turn on the testing mode; clean up the history\n",
    "        network.eval()\n",
    "        batch_output = []\n",
    "        index_col =[]\n",
    "        \n",
    "        # define batch iterator\n",
    "        data_iter = data\n",
    "\n",
    "        data_iter\n",
    "\n",
    "        for idx_col , batch in enumerate(data_iter):\n",
    "            feats, _ = batch\n",
    "            feats = feats.to(self.device)\n",
    "            with torch.no_grad():\n",
    "                prediction = network(feats.float())\n",
    "                \n",
    "\n",
    "                \n",
    "\n",
    "            batch_output.append(prediction.detach())\n",
    "            index_col.append(idx_col)\n",
    "\n",
    "        return self._post_processor(batch_output, threshold) , index_col\n",
    "\n",
    "    def _post_processor(self, batch_output, threshold=0.33):\n",
    "        \"\"\"Convert logit tensor to label.\"\"\"\n",
    "        y_preds = []\n",
    "        for logit in batch_output:\n",
    "            _, y_pred = torch.max(logit, 1)\n",
    "            y_pred = (y_pred > threshold).long().cpu().numpy()\n",
    "            y_preds.append(y_pred)\n",
    "        y_pred = np.concatenate(y_preds, axis=0)\n",
    "\n",
    "        return y_pred"
   ]
  },
  {
   "cell_type": "code",
   "execution_count": 28,
   "id": "39826c88-9ffa-4738-b783-e60559d33e60",
   "metadata": {},
   "outputs": [],
   "source": [
    "def train():\n",
    "    \"\"\"Train model.\n",
    "    \"\"\"\n",
    "\n",
    "    print(\"Training...\")\n",
    "    train_loader, test_loader=get_data_loaders(df,best_features)\n",
    "\n",
    "\n",
    "\n",
    "    model_args = {\n",
    "        \"in_features\": 11,\n",
    "        \"out_features\": 128,\n",
    "        \"out_classes\": 2,\n",
    "    }\n",
    "    model = LinearStress(model_args)\n",
    "    model_path=\"save_checkpoint/LinearStress.pth\"\n",
    "\n",
    "    # define trainer\n",
    "    trainer_args = {\n",
    "        \"epochs\":50,\n",
    "        \"batch_size\": 1,\n",
    "        \"validate\": True,\n",
    "        \"save_best_dev\": True,\n",
    "        \"use_cuda\": False,\n",
    "        \"print_every_step\": 1000,\n",
    "        \"optimizer\": torch.optim.Adam(model.parameters(), lr=1e-3),\n",
    "        \"model_path\": model_path,\n",
    "        \"eval_metrics\": \"f1\",\n",
    "    }\n",
    "    trainer = Trainer(**trainer_args)\n",
    "\n",
    "    trainer.train(model, data_train=train_loader, dev_data=test_loader)\n",
    "\n",
    "    print('')\n"
   ]
  },
  {
   "cell_type": "code",
   "execution_count": 29,
   "id": "23aa2ff7-1c16-44ae-b6ea-c2ad74d05380",
   "metadata": {
    "scrolled": true
   },
   "outputs": [
    {
     "name": "stdout",
     "output_type": "stream",
     "text": [
      "Training...\n",
      "[epoch:   1 step:    0] train loss: 0.513826 time: 0:00:00\n",
      "[tester] accuracy=0.9135, precision=0.9296, recall=0.9536, f1=0.9415\n",
      "Saved better model selected by validation.\n",
      "[epoch:   2 step:    0] train loss: 0.199385 time: 0:00:01\n",
      "[tester] accuracy=0.9436, precision=0.9735, recall=0.9485, f1=0.9608\n",
      "Saved better model selected by validation.\n",
      "[epoch:   3 step:    0] train loss: 0.1287 time: 0:00:01\n",
      "[tester] accuracy=0.9436, precision=0.9735, recall=0.9485, f1=0.9608\n",
      "[epoch:   4 step:    0] train loss: 0.165471 time: 0:00:02\n",
      "[tester] accuracy=0.9436, precision=0.9735, recall=0.9485, f1=0.9608\n",
      "[epoch:   5 step:    0] train loss: 0.0157611 time: 0:00:02\n",
      "[tester] accuracy=0.9436, precision=0.9735, recall=0.9485, f1=0.9608\n",
      "[epoch:   6 step:    0] train loss: 1.80841 time: 0:00:03\n",
      "[tester] accuracy=0.9286, precision=0.9888, recall=0.9124, f1=0.9491\n",
      "[epoch:   7 step:    0] train loss: 0.00995351 time: 0:00:03\n",
      "[tester] accuracy=0.9436, precision=0.9735, recall=0.9485, f1=0.9608\n",
      "[epoch:   8 step:    0] train loss: 0.00851666 time: 0:00:04\n",
      "[tester] accuracy=0.9436, precision=0.9786, recall=0.9433, f1=0.9606\n",
      "[epoch:   9 step:    0] train loss: 0.0221406 time: 0:00:04\n",
      "[tester] accuracy=0.9436, precision=0.9735, recall=0.9485, f1=0.9608\n",
      "[epoch:  10 step:    0] train loss: 0.00811045 time: 0:00:05\n",
      "[tester] accuracy=0.9436, precision=0.9735, recall=0.9485, f1=0.9608\n",
      "[epoch:  11 step:    0] train loss: 3.97886 time: 0:00:05\n",
      "[tester] accuracy=0.9398, precision=0.9890, recall=0.9278, f1=0.9574\n",
      "[epoch:  12 step:    0] train loss: 0.00147687 time: 0:00:06\n",
      "[tester] accuracy=0.9436, precision=0.9735, recall=0.9485, f1=0.9608\n",
      "[epoch:  13 step:    0] train loss: 0.0269666 time: 0:00:06\n",
      "[tester] accuracy=0.9436, precision=0.9735, recall=0.9485, f1=0.9608\n",
      "[epoch:  14 step:    0] train loss: 0.0281559 time: 0:00:06\n",
      "[tester] accuracy=0.9436, precision=0.9891, recall=0.9330, f1=0.9602\n",
      "[epoch:  15 step:    0] train loss: 0.00871297 time: 0:00:07\n",
      "[tester] accuracy=0.9436, precision=0.9735, recall=0.9485, f1=0.9608\n",
      "[epoch:  16 step:    0] train loss: 0.0142422 time: 0:00:07\n",
      "[tester] accuracy=0.9474, precision=0.9891, recall=0.9381, f1=0.9630\n",
      "Saved better model selected by validation.\n",
      "[epoch:  17 step:    0] train loss: 0.0601384 time: 0:00:08\n",
      "[tester] accuracy=0.9511, precision=0.9945, recall=0.9381, f1=0.9655\n",
      "Saved better model selected by validation.\n",
      "[epoch:  18 step:    0] train loss: 0.0132397 time: 0:00:08\n",
      "[tester] accuracy=0.9436, precision=0.9735, recall=0.9485, f1=0.9608\n",
      "[epoch:  19 step:    0] train loss: 0.00354935 time: 0:00:09\n",
      "[tester] accuracy=0.9549, precision=0.9946, recall=0.9433, f1=0.9683\n",
      "Saved better model selected by validation.\n",
      "[epoch:  20 step:    0] train loss: 0.00132771 time: 0:00:09\n",
      "[tester] accuracy=0.9474, precision=0.9787, recall=0.9485, f1=0.9634\n",
      "[epoch:  21 step:    0] train loss: 0.00258707 time: 0:00:10\n",
      "[tester] accuracy=0.9511, precision=0.9945, recall=0.9381, f1=0.9655\n",
      "[epoch:  22 step:    0] train loss: 0.00988186 time: 0:00:10\n",
      "[tester] accuracy=0.9474, precision=0.9787, recall=0.9485, f1=0.9634\n",
      "[epoch:  23 step:    0] train loss: 0.0121984 time: 0:00:11\n",
      "[tester] accuracy=0.9474, precision=0.9787, recall=0.9485, f1=0.9634\n",
      "[epoch:  24 step:    0] train loss: 0.0515241 time: 0:00:11\n",
      "[tester] accuracy=0.9511, precision=0.9945, recall=0.9381, f1=0.9655\n",
      "[epoch:  25 step:    0] train loss: 0.198076 time: 0:00:12\n",
      "[tester] accuracy=0.9474, precision=0.9787, recall=0.9485, f1=0.9634\n",
      "[epoch:  26 step:    0] train loss: 0.0121469 time: 0:00:12\n",
      "[tester] accuracy=0.9511, precision=0.9945, recall=0.9381, f1=0.9655\n",
      "[epoch:  27 step:    0] train loss: 0.00123044 time: 0:00:13\n",
      "[tester] accuracy=0.9511, precision=0.9945, recall=0.9381, f1=0.9655\n",
      "[epoch:  28 step:    0] train loss: 0.0376698 time: 0:00:13\n",
      "[tester] accuracy=0.9474, precision=0.9787, recall=0.9485, f1=0.9634\n",
      "[epoch:  29 step:    0] train loss: 0.0160629 time: 0:00:14\n",
      "[tester] accuracy=0.9511, precision=0.9945, recall=0.9381, f1=0.9655\n",
      "[epoch:  30 step:    0] train loss: 0.000888549 time: 0:00:14\n",
      "[tester] accuracy=0.9511, precision=0.9945, recall=0.9381, f1=0.9655\n",
      "[epoch:  31 step:    0] train loss: 0.0182167 time: 0:00:15\n",
      "[tester] accuracy=0.9511, precision=0.9945, recall=0.9381, f1=0.9655\n",
      "[epoch:  32 step:    0] train loss: 0.221732 time: 0:00:15\n",
      "[tester] accuracy=0.9549, precision=0.9946, recall=0.9433, f1=0.9683\n",
      "[epoch:  33 step:    0] train loss: 1.71507 time: 0:00:16\n",
      "[tester] accuracy=0.9511, precision=0.9945, recall=0.9381, f1=0.9655\n",
      "[epoch:  34 step:    0] train loss: 0.00205116 time: 0:00:16\n",
      "[tester] accuracy=0.9549, precision=0.9946, recall=0.9433, f1=0.9683\n",
      "[epoch:  35 step:    0] train loss: 0.0211757 time: 0:00:17\n",
      "[tester] accuracy=0.9511, precision=0.9945, recall=0.9381, f1=0.9655\n",
      "[epoch:  36 step:    0] train loss: 0.00149151 time: 0:00:17\n",
      "[tester] accuracy=0.9511, precision=0.9945, recall=0.9381, f1=0.9655\n",
      "[epoch:  37 step:    0] train loss: 2.45545 time: 0:00:18\n",
      "[tester] accuracy=0.9511, precision=0.9945, recall=0.9381, f1=0.9655\n",
      "[epoch:  38 step:    0] train loss: 0.0163483 time: 0:00:19\n",
      "[tester] accuracy=0.9586, precision=0.9946, recall=0.9485, f1=0.9710\n",
      "Saved better model selected by validation.\n",
      "[epoch:  39 step:    0] train loss: 0.0113509 time: 0:00:19\n",
      "[tester] accuracy=0.9511, precision=0.9945, recall=0.9381, f1=0.9655\n",
      "[epoch:  40 step:    0] train loss: 0.00209041 time: 0:00:20\n",
      "[tester] accuracy=0.9549, precision=0.9946, recall=0.9433, f1=0.9683\n",
      "[epoch:  41 step:    0] train loss: 0.0057183 time: 0:00:20\n",
      "[tester] accuracy=0.9511, precision=0.9945, recall=0.9381, f1=0.9655\n",
      "[epoch:  42 step:    0] train loss: 0.761344 time: 0:00:21\n",
      "[tester] accuracy=0.9511, precision=0.9945, recall=0.9381, f1=0.9655\n",
      "[epoch:  43 step:    0] train loss: 0.00901297 time: 0:00:21\n",
      "[tester] accuracy=0.9436, precision=0.9945, recall=0.9278, f1=0.9600\n",
      "[epoch:  44 step:    0] train loss: 0.0194053 time: 0:00:22\n",
      "[tester] accuracy=0.9549, precision=0.9946, recall=0.9433, f1=0.9683\n",
      "[epoch:  45 step:    0] train loss: 0.00947302 time: 0:00:22\n",
      "[tester] accuracy=0.9624, precision=0.9792, recall=0.9691, f1=0.9741\n",
      "Saved better model selected by validation.\n",
      "[epoch:  46 step:    0] train loss: 0.0131083 time: 0:00:23\n",
      "[tester] accuracy=0.9511, precision=0.9945, recall=0.9381, f1=0.9655\n",
      "[epoch:  47 step:    0] train loss: 0.020023 time: 0:00:23\n",
      "[tester] accuracy=0.9436, precision=0.9945, recall=0.9278, f1=0.9600\n",
      "[epoch:  48 step:    0] train loss: 2.98019e-05 time: 0:00:24\n",
      "[tester] accuracy=0.9511, precision=0.9945, recall=0.9381, f1=0.9655\n",
      "[epoch:  49 step:    0] train loss: 0.0369213 time: 0:00:24\n",
      "[tester] accuracy=0.9511, precision=0.9945, recall=0.9381, f1=0.9655\n",
      "[epoch:  50 step:    0] train loss: 0.0038395 time: 0:00:25\n",
      "[tester] accuracy=0.9511, precision=0.9945, recall=0.9381, f1=0.9655\n",
      "\n"
     ]
    }
   ],
   "source": [
    "train()"
   ]
  },
  {
   "cell_type": "code",
   "execution_count": 30,
   "id": "616c25bb-0008-409e-898d-af182531ddd8",
   "metadata": {},
   "outputs": [],
   "source": [
    "def test():\n",
    "    \"\"\"Train model.\n",
    "    \"\"\"\n",
    "\n",
    "    print(\"Testing...\")\n",
    "    model_path=\"save_checkpoint/LinearStress.pth\"\n",
    "\n",
    "\n",
    "    model_args = {\n",
    "        \"in_features\": 11,\n",
    "        \"out_features\": 128,\n",
    "        \"out_classes\": 2,\n",
    "    }\n",
    "    model = LinearStress(model_args)\n",
    "\n",
    "    # define tester\n",
    "    tester_args = {\n",
    "        \"batch_size\": 1,\n",
    "        \"use_cuda\": False,\n",
    "    }\n",
    "    tester = Tester(**tester_args)\n",
    "\n",
    "    # test and threshold selection\n",
    "    _, test_loader=  get_data_loaders(df,best_features)\n",
    "    #_ , test_loader = get_data_loaders(scaled_data_df, feats_test)\n",
    "\n",
    "\n",
    "    best_thresh, best_f1 = 0., 0.\n",
    "    for thresh in np.arange(0.33, 0.87, 0.01):\n",
    "        thresh = np.round(thresh, 2)\n",
    "        f1 = tester.test(model, test_loader, threshold=thresh)[\"f1\"]\n",
    "        print(\"threshold: {:.2f} f1: {}\".format(thresh, f1))\n",
    "        if f1 > best_f1:\n",
    "            best_thresh, best_f1 = thresh, f1\n",
    "            print(f\"best f1 on dev: {best_f1} threshold: {best_thresh:.2f}\")\n",
    "\n",
    "    print('')\n"
   ]
  },
  {
   "cell_type": "code",
   "execution_count": 31,
   "id": "a90aa52b-034d-4cc9-bbb1-af56fee93719",
   "metadata": {
    "scrolled": true
   },
   "outputs": [
    {
     "name": "stdout",
     "output_type": "stream",
     "text": [
      "Testing...\n",
      "[tester] accuracy=0.8910, precision=0.9577, recall=0.8960, f1=0.9258\n",
      "threshold: 0.33 f1: 0.9258312020460359\n",
      "best f1 on dev: 0.9258312020460359 threshold: 0.33\n",
      "[tester] accuracy=0.8910, precision=0.9577, recall=0.8960, f1=0.9258\n",
      "threshold: 0.34 f1: 0.9258312020460359\n",
      "[tester] accuracy=0.8910, precision=0.9577, recall=0.8960, f1=0.9258\n",
      "threshold: 0.35 f1: 0.9258312020460359\n",
      "[tester] accuracy=0.8910, precision=0.9577, recall=0.8960, f1=0.9258\n",
      "threshold: 0.36 f1: 0.9258312020460359\n",
      "[tester] accuracy=0.8910, precision=0.9577, recall=0.8960, f1=0.9258\n",
      "threshold: 0.37 f1: 0.9258312020460359\n",
      "[tester] accuracy=0.8910, precision=0.9577, recall=0.8960, f1=0.9258\n",
      "threshold: 0.38 f1: 0.9258312020460359\n",
      "[tester] accuracy=0.8910, precision=0.9577, recall=0.8960, f1=0.9258\n",
      "threshold: 0.39 f1: 0.9258312020460359\n",
      "[tester] accuracy=0.8910, precision=0.9577, recall=0.8960, f1=0.9258\n",
      "threshold: 0.40 f1: 0.9258312020460359\n",
      "[tester] accuracy=0.8910, precision=0.9577, recall=0.8960, f1=0.9258\n",
      "threshold: 0.41 f1: 0.9258312020460359\n",
      "[tester] accuracy=0.8910, precision=0.9577, recall=0.8960, f1=0.9258\n",
      "threshold: 0.42 f1: 0.9258312020460359\n",
      "[tester] accuracy=0.8910, precision=0.9577, recall=0.8960, f1=0.9258\n",
      "threshold: 0.43 f1: 0.9258312020460359\n",
      "[tester] accuracy=0.8910, precision=0.9577, recall=0.8960, f1=0.9258\n",
      "threshold: 0.44 f1: 0.9258312020460359\n",
      "[tester] accuracy=0.8910, precision=0.9577, recall=0.8960, f1=0.9258\n",
      "threshold: 0.45 f1: 0.9258312020460359\n",
      "[tester] accuracy=0.8910, precision=0.9577, recall=0.8960, f1=0.9258\n",
      "threshold: 0.46 f1: 0.9258312020460359\n",
      "[tester] accuracy=0.8910, precision=0.9577, recall=0.8960, f1=0.9258\n",
      "threshold: 0.47 f1: 0.9258312020460359\n",
      "[tester] accuracy=0.8910, precision=0.9577, recall=0.8960, f1=0.9258\n",
      "threshold: 0.48 f1: 0.9258312020460359\n",
      "[tester] accuracy=0.8910, precision=0.9577, recall=0.8960, f1=0.9258\n",
      "threshold: 0.49 f1: 0.9258312020460359\n",
      "[tester] accuracy=0.8910, precision=0.9577, recall=0.8960, f1=0.9258\n",
      "threshold: 0.50 f1: 0.9258312020460359\n",
      "[tester] accuracy=0.8910, precision=0.9577, recall=0.8960, f1=0.9258\n",
      "threshold: 0.51 f1: 0.9258312020460359\n",
      "[tester] accuracy=0.8910, precision=0.9577, recall=0.8960, f1=0.9258\n",
      "threshold: 0.52 f1: 0.9258312020460359\n",
      "[tester] accuracy=0.8910, precision=0.9577, recall=0.8960, f1=0.9258\n",
      "threshold: 0.53 f1: 0.9258312020460359\n",
      "[tester] accuracy=0.8910, precision=0.9577, recall=0.8960, f1=0.9258\n",
      "threshold: 0.54 f1: 0.9258312020460359\n",
      "[tester] accuracy=0.8910, precision=0.9577, recall=0.8960, f1=0.9258\n",
      "threshold: 0.55 f1: 0.9258312020460359\n",
      "[tester] accuracy=0.8910, precision=0.9577, recall=0.8960, f1=0.9258\n",
      "threshold: 0.56 f1: 0.9258312020460359\n",
      "[tester] accuracy=0.8910, precision=0.9577, recall=0.8960, f1=0.9258\n",
      "threshold: 0.57 f1: 0.9258312020460359\n",
      "[tester] accuracy=0.8910, precision=0.9577, recall=0.8960, f1=0.9258\n",
      "threshold: 0.58 f1: 0.9258312020460359\n",
      "[tester] accuracy=0.8910, precision=0.9577, recall=0.8960, f1=0.9258\n",
      "threshold: 0.59 f1: 0.9258312020460359\n",
      "[tester] accuracy=0.8910, precision=0.9577, recall=0.8960, f1=0.9258\n",
      "threshold: 0.60 f1: 0.9258312020460359\n",
      "[tester] accuracy=0.8910, precision=0.9577, recall=0.8960, f1=0.9258\n",
      "threshold: 0.61 f1: 0.9258312020460359\n",
      "[tester] accuracy=0.8910, precision=0.9577, recall=0.8960, f1=0.9258\n",
      "threshold: 0.62 f1: 0.9258312020460359\n",
      "[tester] accuracy=0.8910, precision=0.9577, recall=0.8960, f1=0.9258\n",
      "threshold: 0.63 f1: 0.9258312020460359\n",
      "[tester] accuracy=0.8910, precision=0.9577, recall=0.8960, f1=0.9258\n",
      "threshold: 0.64 f1: 0.9258312020460359\n",
      "[tester] accuracy=0.8910, precision=0.9577, recall=0.8960, f1=0.9258\n",
      "threshold: 0.65 f1: 0.9258312020460359\n",
      "[tester] accuracy=0.8910, precision=0.9577, recall=0.8960, f1=0.9258\n",
      "threshold: 0.66 f1: 0.9258312020460359\n",
      "[tester] accuracy=0.8910, precision=0.9577, recall=0.8960, f1=0.9258\n",
      "threshold: 0.67 f1: 0.9258312020460359\n",
      "[tester] accuracy=0.8910, precision=0.9577, recall=0.8960, f1=0.9258\n",
      "threshold: 0.68 f1: 0.9258312020460359\n",
      "[tester] accuracy=0.8910, precision=0.9577, recall=0.8960, f1=0.9258\n",
      "threshold: 0.69 f1: 0.9258312020460359\n",
      "[tester] accuracy=0.8910, precision=0.9577, recall=0.8960, f1=0.9258\n",
      "threshold: 0.70 f1: 0.9258312020460359\n",
      "[tester] accuracy=0.8910, precision=0.9577, recall=0.8960, f1=0.9258\n",
      "threshold: 0.71 f1: 0.9258312020460359\n",
      "[tester] accuracy=0.8910, precision=0.9577, recall=0.8960, f1=0.9258\n",
      "threshold: 0.72 f1: 0.9258312020460359\n",
      "[tester] accuracy=0.8910, precision=0.9577, recall=0.8960, f1=0.9258\n",
      "threshold: 0.73 f1: 0.9258312020460359\n",
      "[tester] accuracy=0.8910, precision=0.9577, recall=0.8960, f1=0.9258\n",
      "threshold: 0.74 f1: 0.9258312020460359\n",
      "[tester] accuracy=0.8910, precision=0.9577, recall=0.8960, f1=0.9258\n",
      "threshold: 0.75 f1: 0.9258312020460359\n",
      "[tester] accuracy=0.8910, precision=0.9577, recall=0.8960, f1=0.9258\n",
      "threshold: 0.76 f1: 0.9258312020460359\n",
      "[tester] accuracy=0.8910, precision=0.9577, recall=0.8960, f1=0.9258\n",
      "threshold: 0.77 f1: 0.9258312020460359\n",
      "[tester] accuracy=0.8910, precision=0.9577, recall=0.8960, f1=0.9258\n",
      "threshold: 0.78 f1: 0.9258312020460359\n",
      "[tester] accuracy=0.8910, precision=0.9577, recall=0.8960, f1=0.9258\n",
      "threshold: 0.79 f1: 0.9258312020460359\n",
      "[tester] accuracy=0.8910, precision=0.9577, recall=0.8960, f1=0.9258\n",
      "threshold: 0.80 f1: 0.9258312020460359\n",
      "[tester] accuracy=0.8910, precision=0.9577, recall=0.8960, f1=0.9258\n",
      "threshold: 0.81 f1: 0.9258312020460359\n",
      "[tester] accuracy=0.8910, precision=0.9577, recall=0.8960, f1=0.9258\n",
      "threshold: 0.82 f1: 0.9258312020460359\n",
      "[tester] accuracy=0.8910, precision=0.9577, recall=0.8960, f1=0.9258\n",
      "threshold: 0.83 f1: 0.9258312020460359\n",
      "[tester] accuracy=0.8910, precision=0.9577, recall=0.8960, f1=0.9258\n",
      "threshold: 0.84 f1: 0.9258312020460359\n",
      "[tester] accuracy=0.8910, precision=0.9577, recall=0.8960, f1=0.9258\n",
      "threshold: 0.85 f1: 0.9258312020460359\n",
      "[tester] accuracy=0.8910, precision=0.9577, recall=0.8960, f1=0.9258\n",
      "threshold: 0.86 f1: 0.9258312020460359\n",
      "\n"
     ]
    }
   ],
   "source": [
    "args = test()"
   ]
  },
  {
   "cell_type": "markdown",
   "id": "d4dc2b91-a16d-48ba-84d3-c0fa59bb4510",
   "metadata": {},
   "source": [
    "### Predictions:"
   ]
  },
  {
   "cell_type": "code",
   "execution_count": 32,
   "id": "778a47ea-205f-4e48-9a2a-aeee3180d892",
   "metadata": {},
   "outputs": [
    {
     "data": {
      "text/plain": [
       "array(['no stress', 'time pressure', 'interruption'], dtype=object)"
      ]
     },
     "execution_count": 32,
     "metadata": {},
     "output_type": "execute_result"
    }
   ],
   "source": [
    "Test_path = \"../FeatureTestTraining/binary/test/test.csv\"\n",
    "\n",
    "test_df = pd.read_csv(Test_path, index_col=False)\n",
    "test_df['condition'].unique()"
   ]
  },
  {
   "cell_type": "code",
   "execution_count": 34,
   "id": "969d213b-c657-4dc8-b7ae-c5837a0dfa4f",
   "metadata": {},
   "outputs": [],
   "source": [
    "test_df = test_df[test_df['condition'] != 'interruption']"
   ]
  },
  {
   "cell_type": "code",
   "execution_count": 35,
   "id": "747499d4-7a6c-47bf-b186-7bf028299d39",
   "metadata": {},
   "outputs": [
    {
     "data": {
      "text/plain": [
       "array(['no stress', 'time pressure'], dtype=object)"
      ]
     },
     "execution_count": 35,
     "metadata": {},
     "output_type": "execute_result"
    }
   ],
   "source": [
    "test_df['condition'].unique()"
   ]
  },
  {
   "cell_type": "code",
   "execution_count": 36,
   "id": "ab3018aa-1fbb-42f8-9dc0-f583c2199aec",
   "metadata": {},
   "outputs": [],
   "source": [
    "def change_label(label):\n",
    "    if label == 'time pressure':\n",
    "        return 'stress'\n",
    "    else:\n",
    "        return 'no stress'\n",
    "test_df['condition'] = test_df['condition'].apply(change_label)"
   ]
  },
  {
   "cell_type": "code",
   "execution_count": 37,
   "id": "cc2300d7-b1ee-49ec-b9c1-2ebc7091ed1f",
   "metadata": {},
   "outputs": [],
   "source": [
    "test_df.rename(columns={'condition': 'label'}, inplace=True)"
   ]
  },
  {
   "cell_type": "code",
   "execution_count": 38,
   "id": "8bb6e035-6f04-4a1c-80ce-beb846be1fa8",
   "metadata": {},
   "outputs": [
    {
     "data": {
      "application/vnd.plotly.v1+json": {
       "config": {
        "plotlyServerURL": "https://plot.ly"
       },
       "data": [
        {
         "hole": 0.5,
         "hoverinfo": "label+value",
         "labels": [
          "no stress",
          "stress"
         ],
         "marker": {
          "colors": [
           "red",
           "royalblue",
           "green",
           "yellow",
           "pink",
           "grey"
          ]
         },
         "textfont": {
          "size": 15
         },
         "type": "pie",
         "values": [
          22158,
          7093
         ]
        }
       ],
       "layout": {
        "annotations": [
         {
          "font": {
           "size": 15
          },
          "showarrow": false,
          "text": "Stress Condition ",
          "x": 0.5,
          "y": 0.5
         }
        ],
        "autosize": true,
        "template": {
         "data": {
          "bar": [
           {
            "error_x": {
             "color": "#2a3f5f"
            },
            "error_y": {
             "color": "#2a3f5f"
            },
            "marker": {
             "line": {
              "color": "#E5ECF6",
              "width": 0.5
             },
             "pattern": {
              "fillmode": "overlay",
              "size": 10,
              "solidity": 0.2
             }
            },
            "type": "bar"
           }
          ],
          "barpolar": [
           {
            "marker": {
             "line": {
              "color": "#E5ECF6",
              "width": 0.5
             },
             "pattern": {
              "fillmode": "overlay",
              "size": 10,
              "solidity": 0.2
             }
            },
            "type": "barpolar"
           }
          ],
          "carpet": [
           {
            "aaxis": {
             "endlinecolor": "#2a3f5f",
             "gridcolor": "white",
             "linecolor": "white",
             "minorgridcolor": "white",
             "startlinecolor": "#2a3f5f"
            },
            "baxis": {
             "endlinecolor": "#2a3f5f",
             "gridcolor": "white",
             "linecolor": "white",
             "minorgridcolor": "white",
             "startlinecolor": "#2a3f5f"
            },
            "type": "carpet"
           }
          ],
          "choropleth": [
           {
            "colorbar": {
             "outlinewidth": 0,
             "ticks": ""
            },
            "type": "choropleth"
           }
          ],
          "contour": [
           {
            "colorbar": {
             "outlinewidth": 0,
             "ticks": ""
            },
            "colorscale": [
             [
              0,
              "#0d0887"
             ],
             [
              0.1111111111111111,
              "#46039f"
             ],
             [
              0.2222222222222222,
              "#7201a8"
             ],
             [
              0.3333333333333333,
              "#9c179e"
             ],
             [
              0.4444444444444444,
              "#bd3786"
             ],
             [
              0.5555555555555556,
              "#d8576b"
             ],
             [
              0.6666666666666666,
              "#ed7953"
             ],
             [
              0.7777777777777778,
              "#fb9f3a"
             ],
             [
              0.8888888888888888,
              "#fdca26"
             ],
             [
              1,
              "#f0f921"
             ]
            ],
            "type": "contour"
           }
          ],
          "contourcarpet": [
           {
            "colorbar": {
             "outlinewidth": 0,
             "ticks": ""
            },
            "type": "contourcarpet"
           }
          ],
          "heatmap": [
           {
            "colorbar": {
             "outlinewidth": 0,
             "ticks": ""
            },
            "colorscale": [
             [
              0,
              "#0d0887"
             ],
             [
              0.1111111111111111,
              "#46039f"
             ],
             [
              0.2222222222222222,
              "#7201a8"
             ],
             [
              0.3333333333333333,
              "#9c179e"
             ],
             [
              0.4444444444444444,
              "#bd3786"
             ],
             [
              0.5555555555555556,
              "#d8576b"
             ],
             [
              0.6666666666666666,
              "#ed7953"
             ],
             [
              0.7777777777777778,
              "#fb9f3a"
             ],
             [
              0.8888888888888888,
              "#fdca26"
             ],
             [
              1,
              "#f0f921"
             ]
            ],
            "type": "heatmap"
           }
          ],
          "heatmapgl": [
           {
            "colorbar": {
             "outlinewidth": 0,
             "ticks": ""
            },
            "colorscale": [
             [
              0,
              "#0d0887"
             ],
             [
              0.1111111111111111,
              "#46039f"
             ],
             [
              0.2222222222222222,
              "#7201a8"
             ],
             [
              0.3333333333333333,
              "#9c179e"
             ],
             [
              0.4444444444444444,
              "#bd3786"
             ],
             [
              0.5555555555555556,
              "#d8576b"
             ],
             [
              0.6666666666666666,
              "#ed7953"
             ],
             [
              0.7777777777777778,
              "#fb9f3a"
             ],
             [
              0.8888888888888888,
              "#fdca26"
             ],
             [
              1,
              "#f0f921"
             ]
            ],
            "type": "heatmapgl"
           }
          ],
          "histogram": [
           {
            "marker": {
             "pattern": {
              "fillmode": "overlay",
              "size": 10,
              "solidity": 0.2
             }
            },
            "type": "histogram"
           }
          ],
          "histogram2d": [
           {
            "colorbar": {
             "outlinewidth": 0,
             "ticks": ""
            },
            "colorscale": [
             [
              0,
              "#0d0887"
             ],
             [
              0.1111111111111111,
              "#46039f"
             ],
             [
              0.2222222222222222,
              "#7201a8"
             ],
             [
              0.3333333333333333,
              "#9c179e"
             ],
             [
              0.4444444444444444,
              "#bd3786"
             ],
             [
              0.5555555555555556,
              "#d8576b"
             ],
             [
              0.6666666666666666,
              "#ed7953"
             ],
             [
              0.7777777777777778,
              "#fb9f3a"
             ],
             [
              0.8888888888888888,
              "#fdca26"
             ],
             [
              1,
              "#f0f921"
             ]
            ],
            "type": "histogram2d"
           }
          ],
          "histogram2dcontour": [
           {
            "colorbar": {
             "outlinewidth": 0,
             "ticks": ""
            },
            "colorscale": [
             [
              0,
              "#0d0887"
             ],
             [
              0.1111111111111111,
              "#46039f"
             ],
             [
              0.2222222222222222,
              "#7201a8"
             ],
             [
              0.3333333333333333,
              "#9c179e"
             ],
             [
              0.4444444444444444,
              "#bd3786"
             ],
             [
              0.5555555555555556,
              "#d8576b"
             ],
             [
              0.6666666666666666,
              "#ed7953"
             ],
             [
              0.7777777777777778,
              "#fb9f3a"
             ],
             [
              0.8888888888888888,
              "#fdca26"
             ],
             [
              1,
              "#f0f921"
             ]
            ],
            "type": "histogram2dcontour"
           }
          ],
          "mesh3d": [
           {
            "colorbar": {
             "outlinewidth": 0,
             "ticks": ""
            },
            "type": "mesh3d"
           }
          ],
          "parcoords": [
           {
            "line": {
             "colorbar": {
              "outlinewidth": 0,
              "ticks": ""
             }
            },
            "type": "parcoords"
           }
          ],
          "pie": [
           {
            "automargin": true,
            "type": "pie"
           }
          ],
          "scatter": [
           {
            "fillpattern": {
             "fillmode": "overlay",
             "size": 10,
             "solidity": 0.2
            },
            "type": "scatter"
           }
          ],
          "scatter3d": [
           {
            "line": {
             "colorbar": {
              "outlinewidth": 0,
              "ticks": ""
             }
            },
            "marker": {
             "colorbar": {
              "outlinewidth": 0,
              "ticks": ""
             }
            },
            "type": "scatter3d"
           }
          ],
          "scattercarpet": [
           {
            "marker": {
             "colorbar": {
              "outlinewidth": 0,
              "ticks": ""
             }
            },
            "type": "scattercarpet"
           }
          ],
          "scattergeo": [
           {
            "marker": {
             "colorbar": {
              "outlinewidth": 0,
              "ticks": ""
             }
            },
            "type": "scattergeo"
           }
          ],
          "scattergl": [
           {
            "marker": {
             "colorbar": {
              "outlinewidth": 0,
              "ticks": ""
             }
            },
            "type": "scattergl"
           }
          ],
          "scattermapbox": [
           {
            "marker": {
             "colorbar": {
              "outlinewidth": 0,
              "ticks": ""
             }
            },
            "type": "scattermapbox"
           }
          ],
          "scatterpolar": [
           {
            "marker": {
             "colorbar": {
              "outlinewidth": 0,
              "ticks": ""
             }
            },
            "type": "scatterpolar"
           }
          ],
          "scatterpolargl": [
           {
            "marker": {
             "colorbar": {
              "outlinewidth": 0,
              "ticks": ""
             }
            },
            "type": "scatterpolargl"
           }
          ],
          "scatterternary": [
           {
            "marker": {
             "colorbar": {
              "outlinewidth": 0,
              "ticks": ""
             }
            },
            "type": "scatterternary"
           }
          ],
          "surface": [
           {
            "colorbar": {
             "outlinewidth": 0,
             "ticks": ""
            },
            "colorscale": [
             [
              0,
              "#0d0887"
             ],
             [
              0.1111111111111111,
              "#46039f"
             ],
             [
              0.2222222222222222,
              "#7201a8"
             ],
             [
              0.3333333333333333,
              "#9c179e"
             ],
             [
              0.4444444444444444,
              "#bd3786"
             ],
             [
              0.5555555555555556,
              "#d8576b"
             ],
             [
              0.6666666666666666,
              "#ed7953"
             ],
             [
              0.7777777777777778,
              "#fb9f3a"
             ],
             [
              0.8888888888888888,
              "#fdca26"
             ],
             [
              1,
              "#f0f921"
             ]
            ],
            "type": "surface"
           }
          ],
          "table": [
           {
            "cells": {
             "fill": {
              "color": "#EBF0F8"
             },
             "line": {
              "color": "white"
             }
            },
            "header": {
             "fill": {
              "color": "#C8D4E3"
             },
             "line": {
              "color": "white"
             }
            },
            "type": "table"
           }
          ]
         },
         "layout": {
          "annotationdefaults": {
           "arrowcolor": "#2a3f5f",
           "arrowhead": 0,
           "arrowwidth": 1
          },
          "autotypenumbers": "strict",
          "coloraxis": {
           "colorbar": {
            "outlinewidth": 0,
            "ticks": ""
           }
          },
          "colorscale": {
           "diverging": [
            [
             0,
             "#8e0152"
            ],
            [
             0.1,
             "#c51b7d"
            ],
            [
             0.2,
             "#de77ae"
            ],
            [
             0.3,
             "#f1b6da"
            ],
            [
             0.4,
             "#fde0ef"
            ],
            [
             0.5,
             "#f7f7f7"
            ],
            [
             0.6,
             "#e6f5d0"
            ],
            [
             0.7,
             "#b8e186"
            ],
            [
             0.8,
             "#7fbc41"
            ],
            [
             0.9,
             "#4d9221"
            ],
            [
             1,
             "#276419"
            ]
           ],
           "sequential": [
            [
             0,
             "#0d0887"
            ],
            [
             0.1111111111111111,
             "#46039f"
            ],
            [
             0.2222222222222222,
             "#7201a8"
            ],
            [
             0.3333333333333333,
             "#9c179e"
            ],
            [
             0.4444444444444444,
             "#bd3786"
            ],
            [
             0.5555555555555556,
             "#d8576b"
            ],
            [
             0.6666666666666666,
             "#ed7953"
            ],
            [
             0.7777777777777778,
             "#fb9f3a"
            ],
            [
             0.8888888888888888,
             "#fdca26"
            ],
            [
             1,
             "#f0f921"
            ]
           ],
           "sequentialminus": [
            [
             0,
             "#0d0887"
            ],
            [
             0.1111111111111111,
             "#46039f"
            ],
            [
             0.2222222222222222,
             "#7201a8"
            ],
            [
             0.3333333333333333,
             "#9c179e"
            ],
            [
             0.4444444444444444,
             "#bd3786"
            ],
            [
             0.5555555555555556,
             "#d8576b"
            ],
            [
             0.6666666666666666,
             "#ed7953"
            ],
            [
             0.7777777777777778,
             "#fb9f3a"
            ],
            [
             0.8888888888888888,
             "#fdca26"
            ],
            [
             1,
             "#f0f921"
            ]
           ]
          },
          "colorway": [
           "#636efa",
           "#EF553B",
           "#00cc96",
           "#ab63fa",
           "#FFA15A",
           "#19d3f3",
           "#FF6692",
           "#B6E880",
           "#FF97FF",
           "#FECB52"
          ],
          "font": {
           "color": "#2a3f5f"
          },
          "geo": {
           "bgcolor": "white",
           "lakecolor": "white",
           "landcolor": "#E5ECF6",
           "showlakes": true,
           "showland": true,
           "subunitcolor": "white"
          },
          "hoverlabel": {
           "align": "left"
          },
          "hovermode": "closest",
          "mapbox": {
           "style": "light"
          },
          "paper_bgcolor": "white",
          "plot_bgcolor": "#E5ECF6",
          "polar": {
           "angularaxis": {
            "gridcolor": "white",
            "linecolor": "white",
            "ticks": ""
           },
           "bgcolor": "#E5ECF6",
           "radialaxis": {
            "gridcolor": "white",
            "linecolor": "white",
            "ticks": ""
           }
          },
          "scene": {
           "xaxis": {
            "backgroundcolor": "#E5ECF6",
            "gridcolor": "white",
            "gridwidth": 2,
            "linecolor": "white",
            "showbackground": true,
            "ticks": "",
            "zerolinecolor": "white"
           },
           "yaxis": {
            "backgroundcolor": "#E5ECF6",
            "gridcolor": "white",
            "gridwidth": 2,
            "linecolor": "white",
            "showbackground": true,
            "ticks": "",
            "zerolinecolor": "white"
           },
           "zaxis": {
            "backgroundcolor": "#E5ECF6",
            "gridcolor": "white",
            "gridwidth": 2,
            "linecolor": "white",
            "showbackground": true,
            "ticks": "",
            "zerolinecolor": "white"
           }
          },
          "shapedefaults": {
           "line": {
            "color": "#2a3f5f"
           }
          },
          "ternary": {
           "aaxis": {
            "gridcolor": "white",
            "linecolor": "white",
            "ticks": ""
           },
           "baxis": {
            "gridcolor": "white",
            "linecolor": "white",
            "ticks": ""
           },
           "bgcolor": "#E5ECF6",
           "caxis": {
            "gridcolor": "white",
            "linecolor": "white",
            "ticks": ""
           }
          },
          "title": {
           "x": 0.05
          },
          "xaxis": {
           "automargin": true,
           "gridcolor": "white",
           "linecolor": "white",
           "ticks": "",
           "title": {
            "standoff": 15
           },
           "zerolinecolor": "white",
           "zerolinewidth": 2
          },
          "yaxis": {
           "automargin": true,
           "gridcolor": "white",
           "linecolor": "white",
           "ticks": "",
           "title": {
            "standoff": 15
           },
           "zerolinecolor": "white",
           "zerolinewidth": 2
          }
         }
        }
       }
      }
     },
     "metadata": {},
     "output_type": "display_data"
    }
   ],
   "source": [
    "labels = ['no stress', 'stress']\n",
    "values = test_df['label'].value_counts()\n",
    "colors = ['red', 'royalblue','green','yellow','pink','grey']\n",
    "fig = go.Figure(data=[go.Pie(labels=labels, values=values, hole=.5)])\n",
    "fig.update_traces(hoverinfo='label+value',textfont_size=15,marker=dict(colors=colors))\n",
    "fig.update_layout(annotations=[dict(text='Stress Condition ', \n",
    "                                    x=0.50, y=0.5, font_size=15, \n",
    "                                    showarrow=False)])\n",
    "fig.show()\n",
    "\n"
   ]
  },
  {
   "cell_type": "code",
   "execution_count": 39,
   "id": "2ad63de4-3849-4407-b144-3224cfedba66",
   "metadata": {},
   "outputs": [],
   "source": [
    "le = LabelEncoder()\n",
    "le.fit(test_df['label'])\n",
    "test_df['label'] = le.transform(test_df['label'])\n"
   ]
  },
  {
   "cell_type": "code",
   "execution_count": 40,
   "id": "69d98bf8-1644-4708-ad9f-97da89cfbebb",
   "metadata": {},
   "outputs": [],
   "source": [
    "scaler = MinMaxScaler()\n",
    "scaled_data = scaler.fit_transform(test_df)\n",
    "scaled_data_df = pd.DataFrame(scaled_data, columns=test_df.columns)"
   ]
  },
  {
   "cell_type": "code",
   "execution_count": 41,
   "id": "c8aea6b2-25b7-4b2c-a65a-3b7a1d18f2f4",
   "metadata": {},
   "outputs": [
    {
     "data": {
      "text/plain": [
       "Index(['MEAN_RR', 'MEDIAN_RR', 'SDRR', 'RMSSD', 'SDSD', 'SDRR_RMSSD', 'HR',\n",
       "       'pNN25', 'pNN50', 'SD1', 'SD2', 'KURT', 'SKEW', 'MEAN_REL_RR',\n",
       "       'MEDIAN_REL_RR', 'SDRR_REL_RR', 'RMSSD_REL_RR', 'SDSD_REL_RR',\n",
       "       'SDRR_RMSSD_REL_RR', 'KURT_REL_RR', 'SKEW_REL_RR', 'VLF', 'VLF_PCT',\n",
       "       'LF', 'LF_PCT', 'LF_NU', 'HF', 'HF_PCT', 'HF_NU', 'TP', 'LF_HF',\n",
       "       'HF_LF', 'sampen', 'higuci', 'datasetId', 'label'],\n",
       "      dtype='object')"
      ]
     },
     "execution_count": 41,
     "metadata": {},
     "output_type": "execute_result"
    }
   ],
   "source": [
    "scaled_data_df.columns"
   ]
  },
  {
   "cell_type": "code",
   "execution_count": 42,
   "id": "5741252b-19d3-4468-9330-1736639a6ca1",
   "metadata": {},
   "outputs": [],
   "source": [
    "feats_test = ['MEAN_RR', 'MEDIAN_RR', 'SDRR', 'RMSSD', 'SDSD', 'SDRR_RMSSD', 'HR',\n",
    "       'pNN25', 'pNN50','MEAN_REL_RR','SDRR_RMSSD_REL_RR','label']"
   ]
  },
  {
   "cell_type": "code",
   "execution_count": 43,
   "id": "941a084e-03f8-4a44-800f-d5816849ebca",
   "metadata": {},
   "outputs": [
    {
     "data": {
      "text/plain": [
       "12"
      ]
     },
     "execution_count": 43,
     "metadata": {},
     "output_type": "execute_result"
    }
   ],
   "source": [
    "len(feats_test)"
   ]
  },
  {
   "cell_type": "code",
   "execution_count": 44,
   "id": "da0337eb-89a1-4afc-94db-059e5556082c",
   "metadata": {},
   "outputs": [],
   "source": [
    "def infer():\n",
    "    \"\"\"Inference using model.\n",
    "    \"\"\"\n",
    "\n",
    "    print(\"Predicting...\")\n",
    "    int_to_label = {0: 'no-stress', 1: 'stress'}\n",
    "\n",
    "    model_args = {\n",
    "        \"in_features\": 11,\n",
    "        \"out_features\": 128,\n",
    "        \"out_classes\": 2,\n",
    "    }\n",
    "    model = LinearStress(model_args)\n",
    "    model_path=\"save_checkpoint/LinearStress.pth\"\n",
    "\n",
    "    load_model(model, model_path, use_cuda=True)\n",
    "\n",
    "    # define predictor\n",
    "    predictor = Predictor(batch_size=1, use_cuda=True)\n",
    "\n",
    "    # predict\n",
    "    _, data_test = get_data_loaders(test_df, feats_test)\n",
    "\n",
    "    threshold = 0.50\n",
    "    y_pred, index_col = predictor.predict(model, data_test, threshold=threshold)\n",
    "\n",
    "    # Map integer labels to their corresponding string labels\n",
    "    y_pred_labels = [int_to_label[label] for label in y_pred]\n",
    "\n",
    "    # print result \n",
    "    for i in range(0,10):\n",
    "        print(f\"prediction Stress Detection on HRV as {y_pred_labels[i]} \\n index_features {index_col[i]}\")\n",
    "    print('')\n"
   ]
  },
  {
   "cell_type": "code",
   "execution_count": 45,
   "id": "16494585-9864-4ccb-8d85-5be054379fe0",
   "metadata": {},
   "outputs": [
    {
     "name": "stdout",
     "output_type": "stream",
     "text": [
      "Predicting...\n",
      "prediction Stress Detection on HRV as no-stress \n",
      " index_features 0\n",
      "prediction Stress Detection on HRV as stress \n",
      " index_features 1\n",
      "prediction Stress Detection on HRV as stress \n",
      " index_features 2\n",
      "prediction Stress Detection on HRV as stress \n",
      " index_features 3\n",
      "prediction Stress Detection on HRV as stress \n",
      " index_features 4\n",
      "prediction Stress Detection on HRV as no-stress \n",
      " index_features 5\n",
      "prediction Stress Detection on HRV as stress \n",
      " index_features 6\n",
      "prediction Stress Detection on HRV as no-stress \n",
      " index_features 7\n",
      "prediction Stress Detection on HRV as stress \n",
      " index_features 8\n",
      "prediction Stress Detection on HRV as stress \n",
      " index_features 9\n",
      "\n"
     ]
    }
   ],
   "source": [
    "infer()"
   ]
  }
 ],
 "metadata": {
  "kernelspec": {
   "display_name": "Python 3 (ipykernel)",
   "language": "python",
   "name": "python3"
  },
  "language_info": {
   "codemirror_mode": {
    "name": "ipython",
    "version": 3
   },
   "file_extension": ".py",
   "mimetype": "text/x-python",
   "name": "python",
   "nbconvert_exporter": "python",
   "pygments_lexer": "ipython3",
   "version": "3.11.5"
  }
 },
 "nbformat": 4,
 "nbformat_minor": 5
}
